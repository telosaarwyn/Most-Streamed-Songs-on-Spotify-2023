{
 "cells": [
  {
   "cell_type": "markdown",
   "metadata": {},
   "source": [
    "# PHASE 1 - Chung, Cipriano, Ranada, Telosa"
   ]
  },
  {
   "cell_type": "markdown",
   "metadata": {},
   "source": [
    "# Introduction\n",
    "In recent years, the music industry has undergone remarkable advancements, thanks to digital technology and shifts in how people engage with music. With the rise of streaming platforms, the way we listen to music has become more accessible, interactive, and data-driven than ever before. Spotify, in particular, has emerged as a key player in this transformative era, boasting millions of users and an extensive library of songs. Spotify not only maintains its strong position as one of the top streaming platforms in the world, but also encompasses a wealth of data that involves music preferences and trends.\n",
    "\n",
    "This research aims to analyze a data set of the most streamed Spotify songs of 2023, offering insights into the ever-changing landscape of music preferences, artist popularity, and the factors influencing how peopole consume music. The following codes are to be executted sequentially to ensure the program runs smoothly and gain a clearer visualization of the research."
   ]
  },
  {
   "cell_type": "markdown",
   "metadata": {},
   "source": [
    "# Most Streamed Spotify Songs 2023\n",
    "The dataset published over compromises an in-depth compilation of the most renowed songs of the year 2023, as officially catalogued by the music streaming platform, Spotify. Moreover, it provides an extensive range of attributes that goes beyond the usual offerings found in similar and comparable dataset. This analysis offers valuable data regarding the characteristics, popularity level, and distribution across different music outlets for each of the songs."
   ]
  },
  {
   "cell_type": "markdown",
   "metadata": {},
   "source": [
    "## Data Collection Process\n",
    "The data collecting procedures mentioned in this compilation were obtained from two primary sources, namely Spotify's Privacy Policy and the Spotify Engineering Blog. Additionally, this aligns with several data conferences and third-party studies that Spotify has engaged with, such as TechCrunch, The Verge, Medium, and Data & Society."
   ]
  },
  {
   "cell_type": "markdown",
   "metadata": {},
   "source": [
    "**Metadata from Record Labels and Distributors** - When artists and record companies upload their recordings to Spotify, they are required to supply accompanying metadata. This metadata includes various details auch as the artist's name, track title, album name, release data, genre, and much more. This fundamental information facilitated the categorization and organization of the music avaliable of the platform."
   ]
  },
  {
   "cell_type": "markdown",
   "metadata": {},
   "source": [
    "**The Echo Nest Acquisition** - In the year 2014, Spotify closed the acquisition of The Echo Nest, a startup specializing in music intelligence. The Echo Nest has developed technology for the analysis of music content and listening behavior. The acquisition significantly bolstered Spotify's capacity to comprehend song attributes and provide music recommendations that extend beyond just information. Utilizing this technological advancement, Spotify possesses the capability to discern several attributes pertaining to songs, including but not limited to mood, energy level, and danceability."
   ]
  },
  {
   "cell_type": "markdown",
   "metadata": {},
   "source": [
    "**User-generated Content** - Spotify users actively participate in the creation and dissemination of playlists, as well as the categorization of music based on distinct moods or activities. These user actions yield significant data of considerable use. As an illustration, when a substantial number of users incorporate a song into playlists associated with exercise, Spotify can deduce that the music possesses an invigorating or inspiring characteristic."
   ]
  },
  {
   "cell_type": "markdown",
   "metadata": {},
   "source": [
    "**Manual Input from the Creators** - Spotify employs a group of music professionals and curators who are responsible for the curation of playlists and perhaps offer supplementary insights or amendments to song metadata."
   ]
  },
  {
   "cell_type": "markdown",
   "metadata": {},
   "source": [
    "**Natural Language Processing (NLP)** - The algorithms employed by Spotify engage in a comprehensive analysis of online sources, including articles, blogs, and various textual content pertaining to music and artists. This process enables the algorithms to discern public sentiment and acquire contextual information. This contributes to the augmentation of the song's data profile."
   ]
  },
  {
   "cell_type": "markdown",
   "metadata": {},
   "source": [
    "**Collaborative Filtering** - This approach is commonly employed in recommendation systems. Spotify has the capability to discern commonalities across songs by analyzing the listening patterns of those who use it. For instance, if individuals who engage with Song A also exhibit a high frequency of engagement with Song B, it is probable that these two songs possess certain shared attributes, while potentially belonging to disparate musical genres."
   ]
  },
  {
   "cell_type": "markdown",
   "metadata": {},
   "source": [
    "## Data Structure\n",
    "Each row in the dataset consists of the **demographic information and features** pertaining to a specific song and/or observation. While each of the columns in the dataset represents a **distinct variable**."
   ]
  },
  {
   "cell_type": "markdown",
   "metadata": {},
   "source": [
    "The dataset comprises **953** songs that have been streamed the most on Spotify in the year 2023."
   ]
  },
  {
   "cell_type": "markdown",
   "metadata": {},
   "source": [
    "The entirety of the dataset comprises **25** distinct variables. "
   ]
  },
  {
   "cell_type": "markdown",
   "metadata": {},
   "source": [
    "## Variables"
   ]
  },
  {
   "cell_type": "markdown",
   "metadata": {},
   "source": [
    "**track_name** - the name of the song"
   ]
  },
  {
   "cell_type": "markdown",
   "metadata": {},
   "source": [
    "**artist(s)_name** - the name of the artist/s of the song"
   ]
  },
  {
   "cell_type": "markdown",
   "metadata": {},
   "source": [
    "**artist_count** -  the number of artists that contributed to the song"
   ]
  },
  {
   "cell_type": "markdown",
   "metadata": {},
   "source": [
    "**released_year** - the year the song was released"
   ]
  },
  {
   "cell_type": "markdown",
   "metadata": {},
   "source": [
    "**released_month** - the month the song was released"
   ]
  },
  {
   "cell_type": "markdown",
   "metadata": {},
   "source": [
    "**released_day** - the day the song was released"
   ]
  },
  {
   "cell_type": "markdown",
   "metadata": {},
   "source": [
    "**in_spotify_playlists** - the number of Spotify playlists the song is included in"
   ]
  },
  {
   "cell_type": "markdown",
   "metadata": {},
   "source": [
    "**in_spotify_charts** - the presence and ranking of the song on Spotify charts"
   ]
  },
  {
   "cell_type": "markdown",
   "metadata": {},
   "source": [
    "**streams** - the total number of streams on Spotify"
   ]
  },
  {
   "cell_type": "markdown",
   "metadata": {},
   "source": [
    "**in_apple_playlists** - the number of Apple Music playlists the song is included in"
   ]
  },
  {
   "cell_type": "markdown",
   "metadata": {},
   "source": [
    "**in_apple_charts** - the presence and ranking of the song on Apple Music charts"
   ]
  },
  {
   "cell_type": "markdown",
   "metadata": {},
   "source": [
    "**in_deezer_playlists** - the number of Deezer playlists the song is included in"
   ]
  },
  {
   "cell_type": "markdown",
   "metadata": {},
   "source": [
    "**in_deezer_charts** - the presence and ranking of the song on Deezer charts"
   ]
  },
  {
   "cell_type": "markdown",
   "metadata": {},
   "source": [
    "**in_shazam_charts** - the presence and ranking of the song on Shazam charts"
   ]
  },
  {
   "cell_type": "markdown",
   "metadata": {},
   "source": [
    "**bpm** - the measure of the song's tempo (beats per minute)"
   ]
  },
  {
   "cell_type": "markdown",
   "metadata": {},
   "source": [
    "**key** - the key of the song"
   ]
  },
  {
   "cell_type": "markdown",
   "metadata": {},
   "source": [
    "**mode** - the mode of the song (major or minor)"
   ]
  },
  {
   "cell_type": "markdown",
   "metadata": {},
   "source": [
    "**danceability_%** - the perceived percentage indicating how suitable the song is for dancing"
   ]
  },
  {
   "cell_type": "markdown",
   "metadata": {},
   "source": [
    "**valence_%** - the perceived percentage of the positivity of the song's musical content"
   ]
  },
  {
   "cell_type": "markdown",
   "metadata": {},
   "source": [
    "**energy_%** - the perceived energy level percentage of the song"
   ]
  },
  {
   "cell_type": "markdown",
   "metadata": {},
   "source": [
    "**acousticness_%** - the amount of acoustic sound in the song"
   ]
  },
  {
   "cell_type": "markdown",
   "metadata": {},
   "source": [
    "**instrumentalness_%** - the amount of instrumental content in the song"
   ]
  },
  {
   "cell_type": "markdown",
   "metadata": {},
   "source": [
    "**liveness_%** - the presence of live performance elements"
   ]
  },
  {
   "cell_type": "markdown",
   "metadata": {},
   "source": [
    "**speechiness_%** - the amount of spoken words in the song"
   ]
  },
  {
   "cell_type": "markdown",
   "metadata": {},
   "source": [
    "## Import\n",
    "Import **numpy** and **pandas**.\n",
    "\n",
    "[**`numpy`**](https://wiki.python.org/moin/NumPy) and [**`pandas`**](https://pandas.pydata.org/pandas-docs/stable/index.html)  lay the groundwork for an efficient and effective data analysis workflow, that will help the researcher to extract meaningful insights and drive informed decision-making processes."
   ]
  },
  {
   "cell_type": "code",
   "execution_count": 133,
   "metadata": {},
   "outputs": [],
   "source": [
    "import numpy as np \n",
    "import pandas as pd\n",
    "import matplotlib.pyplot as plt\n",
    "import statsmodels.api as sm\n",
    "%matplotlib inline"
   ]
  },
  {
   "cell_type": "markdown",
   "metadata": {},
   "source": [
    "## Reading the Data Set\n",
    "Let's start off by bringing in the dataset using Pandas. This will allow us to neatly organize the data into a DataFrame. To achieve this, we'll utilize the [`read_csv`](https://pandas.pydata.org/pandas-docs/stable/reference/api/pandas.read_csv.html) function."
   ]
  },
  {
   "cell_type": "code",
   "execution_count": 134,
   "metadata": {},
   "outputs": [],
   "source": [
    "spotify_df = pd.read_csv(\"spotify-2023.csv\", encoding=\"ISO-8859-1\")"
   ]
  },
  {
   "cell_type": "markdown",
   "metadata": {},
   "source": [
    "## Cleaning the Data Set\n",
    "\n",
    "Data is a critical step in the data analysis process, ensuring that what we're working with is accurate and reliable. By carefully examining through the data, we can get rid of any mistakes, inconsistencies, or irrelevant information. This makes the whole dataset much more reliable and easy to work with.\n",
    "\n",
    "In the following sections, we will explore the process of cleaning the dataset in line with the specific research questions under investigation. "
   ]
  },
  {
   "cell_type": "markdown",
   "metadata": {},
   "source": [
    "### `released_year` variable"
   ]
  },
  {
   "cell_type": "code",
   "execution_count": 135,
   "metadata": {},
   "outputs": [
    {
     "data": {
      "text/plain": [
       "array([2023, 2019, 2022, 2013, 2014, 2018, 2017, 2020, 2016, 2012, 1999,\n",
       "       2008, 1975, 2021, 2015, 2011, 2004, 1985, 2007, 2002, 2010, 1983,\n",
       "       1992, 1968, 1984, 2000, 1997, 1995, 2003, 1973, 1930, 1994, 1958,\n",
       "       1957, 1963, 1959, 1970, 1971, 1952, 1946, 1979, 1950, 1942, 1986,\n",
       "       2005, 1991, 1996, 1998, 1982, 1987], dtype=int64)"
      ]
     },
     "execution_count": 135,
     "metadata": {},
     "output_type": "execute_result"
    }
   ],
   "source": [
    "spotify_df['released_year'].unique()"
   ]
  },
  {
   "cell_type": "markdown",
   "metadata": {},
   "source": [
    "### `key` variable"
   ]
  },
  {
   "cell_type": "code",
   "execution_count": 136,
   "metadata": {},
   "outputs": [
    {
     "data": {
      "text/plain": [
       "array(['B', 'C#', 'F', 'A', 'D', 'F#', nan, 'G#', 'G', 'E', 'A#', 'D#'],\n",
       "      dtype=object)"
      ]
     },
     "execution_count": 136,
     "metadata": {},
     "output_type": "execute_result"
    }
   ],
   "source": [
    "spotify_df['key'].unique()"
   ]
  },
  {
   "cell_type": "markdown",
   "metadata": {},
   "source": [
    "### `danceability_%` variable\n"
   ]
  },
  {
   "cell_type": "code",
   "execution_count": 137,
   "metadata": {},
   "outputs": [
    {
     "data": {
      "text/plain": [
       "array([80, 71, 51, 55, 65, 92, 67, 85, 81, 57, 78, 52, 64, 44, 86, 63, 69,\n",
       "       48, 79, 74, 56, 72, 61, 75, 60, 76, 77, 59, 68, 53, 45, 50, 84, 70,\n",
       "       88, 90, 43, 62, 49, 58, 34, 91, 82, 83, 54, 87, 35, 42, 93, 47, 73,\n",
       "       66, 33, 37, 89, 95, 94, 32, 40, 36, 25, 41, 46, 39, 24, 23, 27, 28,\n",
       "       31, 29, 96, 38], dtype=int64)"
      ]
     },
     "execution_count": 137,
     "metadata": {},
     "output_type": "execute_result"
    }
   ],
   "source": [
    "spotify_df['danceability_%'].unique()"
   ]
  },
  {
   "cell_type": "markdown",
   "metadata": {},
   "source": [
    "### `valence_%` variable"
   ]
  },
  {
   "cell_type": "code",
   "execution_count": 138,
   "metadata": {},
   "outputs": [
    {
     "data": {
      "text/plain": [
       "array([89, 61, 32, 58, 23, 66, 83, 26, 22, 56, 52, 65, 43, 76, 14, 67, 36,\n",
       "       87, 82, 44, 81, 96, 74, 78, 35, 63, 17, 51, 39, 57, 48, 84, 91, 38,\n",
       "       75, 49, 50, 55, 13, 88, 85, 42, 53, 59, 86, 72, 40, 28, 10, 71, 41,\n",
       "       27, 24, 20, 70, 45, 19, 34, 69, 37, 92, 47, 18, 79, 54, 30, 31, 68,\n",
       "       12, 33, 90, 73, 60, 95, 93, 46,  5, 64, 25,  7, 62,  4, 94, 80, 15,\n",
       "       77,  6, 11, 29, 97, 16,  9, 21,  8], dtype=int64)"
      ]
     },
     "execution_count": 138,
     "metadata": {},
     "output_type": "execute_result"
    }
   ],
   "source": [
    "spotify_df['valence_%'].unique()"
   ]
  },
  {
   "cell_type": "markdown",
   "metadata": {},
   "source": [
    "### `energy_%` variable"
   ]
  },
  {
   "cell_type": "code",
   "execution_count": 139,
   "metadata": {},
   "outputs": [
    {
     "data": {
      "text/plain": [
       "array([83, 74, 53, 72, 80, 58, 76, 71, 62, 48, 82, 68, 43, 73, 59,  9, 66,\n",
       "       42, 67, 86, 85, 84, 87, 61, 63, 79, 65, 50, 97, 56, 64, 81, 52, 91,\n",
       "       70, 88, 54, 96, 89, 78, 47, 57, 34, 41, 60, 44, 35, 55, 90, 40, 69,\n",
       "       93, 30, 77, 45, 92, 37, 27, 94, 75, 39, 51, 32, 33, 46, 38, 14, 31,\n",
       "       28, 36, 25, 95, 49, 23, 24, 26, 15, 20, 29, 16], dtype=int64)"
      ]
     },
     "execution_count": 139,
     "metadata": {},
     "output_type": "execute_result"
    }
   ],
   "source": [
    "spotify_df['energy_%'].unique()"
   ]
  },
  {
   "cell_type": "markdown",
   "metadata": {},
   "source": [
    "### `acousticness_%` variable"
   ]
  },
  {
   "cell_type": "code",
   "execution_count": 140,
   "metadata": {},
   "outputs": [
    {
     "data": {
      "text/plain": [
       "array([31,  7, 17, 11, 14, 19, 48, 37, 12, 21, 23, 18,  6, 83, 34,  5, 43,\n",
       "       96,  0, 22, 26,  9, 46,  2, 39, 36, 67, 27, 54,  4, 52, 10, 16, 70,\n",
       "       51, 58, 59, 55, 50, 25, 62, 74,  1, 44, 65, 33, 78, 76,  3, 75, 15,\n",
       "       71, 61, 30, 24, 53, 93, 32, 45, 42, 38,  8, 73, 57, 97, 94, 20, 86,\n",
       "       63, 84, 40, 28, 81, 41, 69, 60, 89, 66, 35, 72, 47, 79, 49, 80, 91,\n",
       "       56, 29, 13, 90, 77, 87, 85, 64, 88, 68, 95, 92, 82], dtype=int64)"
      ]
     },
     "execution_count": 140,
     "metadata": {},
     "output_type": "execute_result"
    }
   ],
   "source": [
    "spotify_df['acousticness_%'].unique()"
   ]
  },
  {
   "cell_type": "markdown",
   "metadata": {},
   "source": [
    "### `instrumentalness_%` variable"
   ]
  },
  {
   "cell_type": "code",
   "execution_count": 141,
   "metadata": {},
   "outputs": [
    {
     "data": {
      "text/plain": [
       "array([ 0, 63, 17,  2, 19,  1, 18,  3, 51,  8,  9,  4,  5, 25, 46, 10, 90,\n",
       "       47, 35, 12, 13, 41, 24, 23,  6, 20, 30, 15, 91, 27, 72, 42, 14, 44,\n",
       "       11, 61, 83, 22, 33], dtype=int64)"
      ]
     },
     "execution_count": 141,
     "metadata": {},
     "output_type": "execute_result"
    }
   ],
   "source": [
    "spotify_df['instrumentalness_%'].unique()"
   ]
  },
  {
   "cell_type": "markdown",
   "metadata": {},
   "source": [
    "### `liveness_%` variable"
   ]
  },
  {
   "cell_type": "code",
   "execution_count": 142,
   "metadata": {},
   "outputs": [
    {
     "data": {
      "text/plain": [
       "array([ 8, 10, 31, 11, 28, 27, 15,  3,  9, 16, 34, 12, 36, 42,  6, 14, 56,\n",
       "       33, 19, 13,  7, 35, 23, 44, 17, 22, 25, 48, 43, 30, 20, 83, 38, 21,\n",
       "       26, 29, 18, 32, 53,  5, 40, 50, 64, 37, 41, 45, 58, 91, 80,  4, 47,\n",
       "       39, 61, 92, 52, 72, 46, 77, 66, 24, 60, 49, 97, 90, 67, 51, 63, 54],\n",
       "      dtype=int64)"
      ]
     },
     "execution_count": 142,
     "metadata": {},
     "output_type": "execute_result"
    }
   ],
   "source": [
    "spotify_df['liveness_%'].unique()"
   ]
  },
  {
   "cell_type": "markdown",
   "metadata": {},
   "source": [
    "### `speechiness_%` variable"
   ]
  },
  {
   "cell_type": "code",
   "execution_count": 143,
   "metadata": {},
   "outputs": [
    {
     "data": {
      "text/plain": [
       "array([ 4,  6, 15, 24,  3,  9, 33,  5,  7, 16, 20, 28, 10, 25, 19, 14, 29,\n",
       "        8, 13, 17, 34,  2, 11, 22, 12, 49, 21, 23, 64, 30, 39, 36, 42, 26,\n",
       "       32, 35, 31, 38, 27, 46, 18, 37, 40, 41, 44, 43, 45, 59],\n",
       "      dtype=int64)"
      ]
     },
     "execution_count": 143,
     "metadata": {},
     "output_type": "execute_result"
    }
   ],
   "source": [
    "spotify_df['speechiness_%'].unique()"
   ]
  },
  {
   "cell_type": "markdown",
   "metadata": {},
   "source": [
    "We have observed that aside from the [**`key`**](https://fretboardanatomy.com/how-to-figure-out-the-key-of-a-song/#:~:text=At%20the%20top%20of%20a,resolution%2C%20it%27s%20probably%20the%20I.) variable. variable, the following variables under examination — released_year, danceability_%, valence_%, energy_%, acousticness_%, instrumentalness_%, liveness_%, speechiness_%, in_spotify_charts, in_apple_charts, and in_deezer_charts, are free from errors and are represented in one single format, which is in integer format and no missing value was detected, therefore, no further cleaning will be necessary for these variables.\n",
    "\n",
    "On the other hand, we have identified that the `key` variable has empty variables (aka nan). Due to the variable's non-integer format, employing imputation by computing the mean and uniformly applying it to the missing values to treat this problem appears not to be suitable, given the potential distortions it might introduce to the outcomes. \n",
    "\n",
    "Considering the multifaceted nature of variables influencing a song's popularity on Spotify within the scope of this research, the researchers have chosen to ignore observations with missing values. This decision ensures the preservation of the integrity of the data analysis and the accuracy of the findings."
   ]
  },
  {
   "cell_type": "markdown",
   "metadata": {},
   "source": [
    "Let us check some more variables and see if cleaning is needed."
   ]
  },
  {
   "cell_type": "markdown",
   "metadata": {},
   "source": [
    "### `in_spotify_charts` variable"
   ]
  },
  {
   "cell_type": "code",
   "execution_count": 144,
   "metadata": {},
   "outputs": [
    {
     "data": {
      "text/plain": [
       "array([147,  48, 113, 100,  50,  91,  43,  83,  44,  40,  55, 115,  98,\n",
       "       130,  77, 104,  68,  26,  38, 110,  87,  19, 101,  78,  34,  88,\n",
       "        56,  49,  31,  53,  42,  28,  25,  80,  64,  76,  59,  79,  47,\n",
       "        66,  39,  69,  45,  41,  29,  15,  23,  36,  24,  35,  63,  61,\n",
       "        62,  20,  30,   9,  17,  12,  46,  52,  58,  27,  21,  32,   6,\n",
       "        18,  22,  11,  33,  16,   8,  13,   7,  14,  37,  10,   4,   0,\n",
       "         5,   3,   2,   1], dtype=int64)"
      ]
     },
     "execution_count": 144,
     "metadata": {},
     "output_type": "execute_result"
    }
   ],
   "source": [
    "spotify_df['in_spotify_charts'].unique()"
   ]
  },
  {
   "cell_type": "markdown",
   "metadata": {},
   "source": [
    "### `in_apple_charts` variable"
   ]
  },
  {
   "cell_type": "code",
   "execution_count": 145,
   "metadata": {},
   "outputs": [
    {
     "data": {
      "text/plain": [
       "array([263, 126, 207, 133, 213, 222,  89, 210, 110, 205, 202, 215, 156,\n",
       "       198, 162, 212, 227, 100, 104, 163, 119,  98, 152, 182, 149, 109,\n",
       "       107,   0, 135, 185, 142, 123,  33, 108, 111, 159, 117, 184,  58,\n",
       "       145,  48, 127,  21, 137,  86,  64,  71, 122, 199,  79, 115, 112,\n",
       "        17,  84, 121,   2,  55,  32,  93,  80, 144,  87,  65,  85,  74,\n",
       "        16,  96,   6,  72,  99,  75, 125, 120, 148,  52,  97,  76,  45,\n",
       "       105, 143, 106,  91, 166,  40, 113, 102,  23,  81,  12, 116,  69,\n",
       "        44,  59, 124,  37,  90,  88,   9,  29,   8,  14,  38, 181,  95,\n",
       "       101,  82,  60,  92,  70,  20,  25,  10,  68,  73, 129,  50,   3,\n",
       "        46,  18,  15,  41,  34,  77,  78,  66,  26,  43,  57,  27,  53,\n",
       "        22,  42,  13,   7,   5, 103,   4,   1,  31,  35,  54,  51,  11,\n",
       "        19,  94,  24,  56,  47, 132, 168,  63,  30,  39,  36, 172,  61,\n",
       "        49,  28, 130, 167, 118, 155, 134,  67, 114, 160, 188, 136, 151,\n",
       "       275, 266, 141], dtype=int64)"
      ]
     },
     "execution_count": 145,
     "metadata": {},
     "output_type": "execute_result"
    }
   ],
   "source": [
    "spotify_df['in_apple_charts'].unique()"
   ]
  },
  {
   "cell_type": "markdown",
   "metadata": {},
   "source": [
    "### `in_deezer_charts` variable"
   ]
  },
  {
   "cell_type": "code",
   "execution_count": 146,
   "metadata": {},
   "outputs": [
    {
     "data": {
      "text/plain": [
       "array([10, 14, 12, 15, 17, 13, 11,  5, 58, 24, 46,  6,  2,  4,  1, 38,  8,\n",
       "       23,  9, 18,  7,  3, 45, 16, 37,  0, 19, 20, 28, 26, 31, 22, 29, 21],\n",
       "      dtype=int64)"
      ]
     },
     "execution_count": 146,
     "metadata": {},
     "output_type": "execute_result"
    }
   ],
   "source": [
    "spotify_df['in_deezer_charts'].unique()"
   ]
  },
  {
   "cell_type": "markdown",
   "metadata": {},
   "source": [
    "### `streams` variable"
   ]
  },
  {
   "cell_type": "code",
   "execution_count": 147,
   "metadata": {},
   "outputs": [
    {
     "data": {
      "text/plain": [
       "array([1.41381703e+08, 1.33716286e+08, 1.40003974e+08, 8.00840817e+08,\n",
       "       3.03236322e+08, 1.83706234e+08, 7.25980112e+08, 5.81493780e+07,\n",
       "       9.52173150e+07, 5.53634067e+08, 5.05671438e+08, 5.82551500e+07,\n",
       "       1.31685572e+09, 3.87570742e+08, 2.51318849e+09, 1.16309365e+09,\n",
       "       4.96795686e+08, 3.05468830e+07, 3.35222234e+08, 3.63369738e+08,\n",
       "       8.64448420e+07, 5.21352480e+07, 1.29702623e+09, 2.00647221e+08,\n",
       "       1.15364561e+08, 7.83006540e+07, 8.99183384e+08, 6.12452890e+07,\n",
       "       4.29829812e+08, 1.27408954e+08, 2.25811610e+07, 5.22942660e+07,\n",
       "       8.43957510e+08, 9.99748277e+08, 6.18990393e+08, 1.23122413e+08,\n",
       "       1.88933502e+08, 1.35595908e+09, 7.86181836e+08, 1.76553476e+08,\n",
       "       3.54495408e+08, 2.80809655e+09, 1.10943317e+09, 1.04710129e+09,\n",
       "       6.51561990e+07, 5.70515054e+08, 1.08568542e+09, 1.64799040e+09,\n",
       "       2.56552969e+09, 5.18745108e+08, 1.07753850e+08, 1.77740666e+08,\n",
       "       1.53372011e+08, 5.78764400e+07, 1.81367367e+09, 3.70389507e+09,\n",
       "       2.56483385e+08, 1.21408336e+09, 1.60113260e+07, 8.12019557e+08,\n",
       "       1.11947664e+08, 1.56338624e+08, 7.20434240e+08, 3.57925728e+08,\n",
       "       6.74072710e+08, 1.75521442e+09, 4.04562836e+08, 3.73199958e+08,\n",
       "       1.47804250e+07, 3.95781780e+07, 5.42661020e+07, 2.55797576e+09,\n",
       "       7.51134527e+08, 2.28277148e+09, 1.35656509e+09, 1.59290979e+09,\n",
       "       6.35412045e+08, 1.23067589e+09, 5.85695368e+08, 4.38576270e+07,\n",
       "       2.00909467e+09, 6.00976848e+08, 3.97090920e+07, 3.92289290e+07,\n",
       "       2.66534392e+09, 2.23633238e+08, 2.88724181e+09, 1.44075782e+09,\n",
       "       1.65484133e+08, 5.80548110e+07, 1.57058870e+08, 9.51319980e+07,\n",
       "       2.50305248e+08, 6.85032533e+08, 3.84119560e+07, 1.44565150e+08,\n",
       "       1.27567540e+08, 3.99686758e+08, 9.83637508e+08, 1.18482347e+08,\n",
       "       8.82831184e+08, 2.86400165e+08, 1.72825906e+08, 1.24155904e+09,\n",
       "       2.95622200e+07, 7.73096110e+07, 1.60522451e+09, 1.11699563e+09,\n",
       "       8.38079900e+08, 1.16362069e+09, 1.09360553e+09, 1.79659294e+08,\n",
       "       3.90585610e+07, 3.69121230e+07, 1.20595161e+09, 1.79100057e+09,\n",
       "       2.01660859e+08, 2.48088961e+08, 9.08397530e+07, 6.07123776e+08,\n",
       "       5.58423450e+07, 2.11050784e+08, 3.42897938e+08, 2.76200000e+03,\n",
       "       3.30346424e+08, 6.01863821e+08, 1.95353383e+09, 2.32258012e+09,\n",
       "       2.35571989e+09, 6.69025030e+07, 9.62737460e+07, 4.30977451e+08,\n",
       "       2.84819874e+08, 7.21975598e+08, 1.21712071e+09, 1.09276132e+08,\n",
       "       2.76259178e+08, 5.42256320e+07, 2.55952907e+09, 6.81583126e+08,\n",
       "       2.59404013e+09, 8.11022530e+07, 1.19566410e+07, 1.68766403e+09,\n",
       "       1.15993880e+07, 6.11700552e+08, 1.13386579e+09, 1.08940249e+09,\n",
       "       4.11747614e+08, 2.55932395e+08, 3.18735440e+07, 9.50536340e+07,\n",
       "       1.27943486e+09, 2.33801632e+08, 1.48134998e+09, 1.42095275e+08,\n",
       "       6.18885532e+08, 2.01146418e+09, 1.16733074e+09, 9.29964809e+08,\n",
       "       4.36027885e+08, 6.57723613e+08, 2.71392235e+09, 6.21660989e+08,\n",
       "       1.59122378e+09, 9.50906471e+08, 1.59327074e+09, 1.41008883e+09,\n",
       "       1.23500553e+09, 1.66118732e+09, 1.37458117e+09, 9.41864660e+07,\n",
       "       1.78832644e+09, 1.84036462e+09, 1.43573775e+08, 6.84675814e+08,\n",
       "       1.11383887e+09, 1.26733335e+09, 7.26307468e+08, 3.56254389e+09,\n",
       "       1.13109094e+09, 3.07370144e+08, 1.27129324e+09, 2.65882712e+08,\n",
       "       8.41749534e+08, 4.79563780e+07, 8.06397070e+08, 2.13233581e+09,\n",
       "       1.64142667e+09, 2.13515845e+09, 3.67316268e+08, 3.50381515e+08,\n",
       "       1.26431084e+09, 3.03432060e+07, 4.05136812e+08, 1.14572761e+09,\n",
       "       5.40654286e+08, 5.73127350e+07, 3.97582059e+08, 1.47911506e+09,\n",
       "       8.67736320e+07, 1.33753727e+08, 1.23124076e+08, 4.63564958e+08,\n",
       "       6.45330400e+07, 6.54960460e+07, 6.86169630e+07, 1.61460990e+08,\n",
       "       7.01069750e+07, 1.13509496e+08, 8.99331330e+07, 7.10071390e+07,\n",
       "       4.35225890e+07, 2.32896922e+08, 3.71266850e+07, 1.95576623e+08,\n",
       "       5.32336353e+08, 5.38115192e+08, 4.61427720e+07, 4.01036314e+08,\n",
       "       1.27026613e+08, 3.45031710e+08, 2.88101651e+08, 6.03505380e+07,\n",
       "       3.35074782e+08, 7.67673960e+07, 4.60656670e+07, 4.59276435e+08,\n",
       "       3.96662450e+07, 1.38517666e+08, 8.22633917e+08, 5.95900742e+08,\n",
       "       5.19857790e+07, 5.79459870e+07, 1.15010040e+08, 1.75097833e+08,\n",
       "       5.70890660e+07, 4.88386797e+08, 3.27616890e+07, 1.04748005e+09,\n",
       "       1.53454328e+08, 2.17672943e+08, 4.57184829e+08, 9.39844851e+08,\n",
       "       7.26434358e+08, 5.73633020e+08, 1.40611129e+09, 7.15733390e+07,\n",
       "       2.49756530e+07, 1.45458418e+08, 1.42458957e+09, 2.31332117e+08,\n",
       "       4.15932686e+08, 9.88515741e+08, 5.08476240e+07, 3.98934890e+07,\n",
       "       9.20351150e+07, 1.18810253e+08, 7.72332410e+07, 2.06399629e+08,\n",
       "       1.17747907e+08, 2.66624541e+08, 2.93186992e+08, 1.39681964e+08,\n",
       "       1.23132751e+08, 1.03762518e+08, 1.62887075e+08, 9.12216250e+07,\n",
       "       1.90490915e+08, 9.61802770e+07, 1.85240616e+08, 8.85093467e+08,\n",
       "       1.04992946e+08, 1.47290338e+08, 1.30218409e+09, 1.58950978e+08,\n",
       "       7.69106440e+07, 1.37123880e+08, 7.82369383e+08, 5.02574952e+08,\n",
       "       2.07033255e+08, 4.04887295e+08, 3.81161027e+08, 4.66231982e+08,\n",
       "       3.57580552e+08, 6.11057040e+07, 1.98275403e+08, 1.68448603e+08,\n",
       "       7.05469769e+08, 3.45022150e+07, 4.82175240e+08, 3.04118600e+08,\n",
       "       1.44979947e+09, 1.73627354e+08, 9.00252580e+07, 6.52704649e+08,\n",
       "       1.82999296e+09, 6.55466831e+08, 1.46409671e+08, 9.58160240e+07,\n",
       "       1.17206995e+08, 1.00409613e+08, 8.07583500e+07, 3.25592432e+08,\n",
       "       5.84732760e+07, 5.27229960e+07, 1.91945597e+08, 7.73775030e+07,\n",
       "       7.43693613e+08, 2.67789608e+08, 1.22181348e+09, 4.49701773e+08,\n",
       "       6.70704100e+07, 1.16334601e+08, 4.33356509e+08, 1.65584767e+08,\n",
       "       3.67814306e+08, 4.77033549e+08, 1.56214700e+08, 4.48843705e+08,\n",
       "       1.35760877e+09, 2.94352144e+08, 9.72164968e+08, 9.20045682e+08,\n",
       "       2.42046134e+09, 1.94737178e+09, 2.44658767e+08, 6.82169920e+07,\n",
       "       2.23582566e+08, 4.71819764e+08, 2.72377463e+08, 1.36142504e+09,\n",
       "       1.49778242e+08, 1.16599790e+08, 1.48469433e+08, 4.97225336e+08,\n",
       "       8.87911090e+07, 1.25917280e+08, 1.05062254e+08, 9.56231480e+07,\n",
       "       1.44584800e+08, 2.98063749e+08, 1.66570053e+08, 8.30214680e+07,\n",
       "       1.39836056e+08, 3.03216294e+08, 2.21409663e+08, 5.88909310e+07,\n",
       "       8.14193890e+07, 1.56777415e+08, 2.84908316e+08, 9.34389100e+07,\n",
       "       3.63472647e+08, 3.72476382e+08, 3.80726517e+08, 5.65332720e+07,\n",
       "       1.75399345e+08, 2.03221468e+08, 1.62416558e+09, 1.34294498e+08,\n",
       "       7.00697450e+07, 6.09293408e+08, 6.71365962e+08, 3.62361576e+08,\n",
       "       9.35876650e+07, 1.22348115e+09, 1.02225823e+09, 2.63453310e+08,\n",
       "       1.43512755e+09, 2.36857112e+08, 1.47538971e+08, 6.98086140e+08,\n",
       "       7.23894473e+08, 3.44509740e+07, 4.03097450e+08, 3.09483971e+08,\n",
       "       3.19566866e+08, 9.09001996e+08, 1.06196651e+09, 3.25269470e+07,\n",
       "       1.24988687e+08, 1.03787664e+08, 1.34255790e+08, 3.01051721e+08,\n",
       "       1.52850295e+08, 3.09653982e+08, 2.97328960e+08, 3.32506354e+08,\n",
       "       4.80507035e+08, 1.06558033e+09, 1.22763672e+08, 4.45763624e+08,\n",
       "       1.36518400e+06, 1.84308753e+08, 7.89753877e+08, 3.23358833e+08,\n",
       "       6.06361689e+08, 1.20972253e+08, 3.38564981e+08, 1.60698695e+09,\n",
       "       1.30179990e+09, 1.40187018e+08, 1.89751789e+09, 1.07642809e+08,\n",
       "       5.51305895e+08, 5.56585270e+08, 2.30303397e+09, 6.46886885e+08,\n",
       "       2.22612678e+08, 1.81434976e+09, 8.72137015e+08, 5.71386359e+08,\n",
       "       3.04079786e+08, 1.74006928e+08, 2.84785823e+08, 1.63284000e+08,\n",
       "       2.46390068e+08, 4.82257456e+08, 1.68684524e+08, 7.84898190e+07,\n",
       "       1.95516622e+08, 1.26059450e+09, 4.28685680e+08, 1.02485833e+09,\n",
       "       8.38586769e+08, 1.99386237e+08, 9.72509632e+08, 2.13438580e+08,\n",
       "       1.55551110e+09, 2.10038833e+08, 2.27918678e+08, 8.26623384e+08,\n",
       "       1.80251430e+09, 1.32909010e+09, 1.81831132e+08, 4.62791599e+08,\n",
       "       3.48647203e+08, 3.66599607e+08, 9.05985170e+07, 1.47926447e+09,\n",
       "       1.44977944e+09, 1.15917611e+09, 7.69213520e+08, 7.41301563e+08,\n",
       "       8.07561936e+08, 8.34129063e+08, 6.63832097e+08, 4.46390129e+08,\n",
       "       6.90104769e+08, 4.85285717e+08, 5.20034544e+08, 4.76244795e+08,\n",
       "       6.29173063e+08, 4.04664135e+08, 9.87093290e+07, 1.10849052e+08,\n",
       "       4.60492795e+08, 9.40057860e+07, 3.95591396e+08, 3.89771964e+08,\n",
       "       4.03939487e+08, 4.81697415e+08, 1.10073250e+08, 8.80922560e+07,\n",
       "       3.51636786e+08, 4.73248298e+08, 7.39812930e+07, 1.55653938e+08,\n",
       "       4.29504768e+08, 2.42767149e+08, 6.53627880e+07, 6.75401650e+07,\n",
       "       6.20190740e+07, 1.35723538e+08, 2.95998468e+08, 2.61116938e+08,\n",
       "       1.36689549e+08, 1.35611421e+08, 3.56709897e+08, 1.10649992e+08,\n",
       "       3.01869854e+08, 1.27027715e+08, 5.71444580e+07, 5.68706890e+07,\n",
       "       3.23437194e+08, 3.17726339e+08, 1.16144341e+08, 3.28207708e+08,\n",
       "       6.08228647e+08, 1.80577478e+08, 8.09306935e+08, 4.92629610e+07,\n",
       "       6.14555082e+08, 2.45350949e+08, 1.78660459e+08, 5.16416850e+07,\n",
       "       7.81399480e+07, 3.22336177e+08, 1.00761243e+09, 3.26792833e+08,\n",
       "       3.91251368e+08, 3.49585590e+08, 3.39659802e+08, 6.74772936e+08,\n",
       "       4.32719968e+08, 1.30988745e+09, 1.19238316e+08, 1.16903579e+08,\n",
       "       8.88046992e+08, 2.00660871e+08, 1.30655803e+08, 1.88703959e+09,\n",
       "       8.81038480e+07, 1.01114984e+08, 1.57546701e+09, 9.16560260e+07,\n",
       "       1.04256841e+09, 1.73544178e+09, 7.26837877e+08, 5.39335260e+07,\n",
       "       2.67758538e+08, 7.46014560e+07, 9.20797189e+08, 5.39595276e+08,\n",
       "       1.36781048e+09, 5.78207856e+08, 7.75542072e+08, 8.63625566e+08,\n",
       "       6.56013912e+08, 1.05676004e+09, 6.11994237e+08, 1.23085586e+09,\n",
       "       5.82981380e+08, 1.85814420e+09, 2.40684449e+08, 5.83687007e+08,\n",
       "       6.38035290e+07, 4.66214729e+08, 2.36940480e+08, 4.19244660e+07,\n",
       "       2.25259194e+08, 3.93230256e+08, 2.87201015e+08, 5.99770206e+08,\n",
       "       3.42779426e+08, 6.73801126e+08, 1.16864280e+09, 5.40539717e+08,\n",
       "       3.83550148e+08, 5.30511203e+08, 3.73079670e+07, 5.10876816e+08,\n",
       "       1.44594166e+09, 1.76336371e+09, 3.74191487e+08, 1.08809090e+08,\n",
       "       4.36695353e+08, 4.21040617e+08, 5.01541661e+08, 3.54065229e+08,\n",
       "       1.14364783e+09, 3.11395144e+08, 6.72656250e+08, 1.25688066e+09,\n",
       "       1.69289799e+09, 2.45095641e+08, 6.86734357e+08, 2.61414174e+08,\n",
       "       6.10045621e+08, 1.11588085e+09, 5.94482982e+08, 5.66954746e+08,\n",
       "       5.13597931e+08, 3.74706940e+08, 1.84937148e+08, 3.19595710e+07,\n",
       "       1.67076418e+08, 8.24420218e+08, 3.63467642e+08, 1.12746825e+09,\n",
       "       6.06809390e+07, 2.47737946e+08, 1.69940240e+09, 1.54797871e+08,\n",
       "       1.98883004e+08, 1.24407432e+08, 8.50608354e+08, 3.76333030e+08,\n",
       "       5.16784627e+08, 1.60804524e+09, 5.06778838e+08, 1.47279987e+09,\n",
       "       5.13643924e+08, 2.61286503e+08, 7.83706581e+08, 4.22691058e+08,\n",
       "       1.06234566e+09, 1.25256387e+09, 8.51070493e+08, 2.63894529e+08,\n",
       "       3.45903614e+08, 9.51637566e+08, 9.56865266e+08, 4.27486004e+08,\n",
       "       1.56658366e+08, 6.24515457e+08, 7.77765388e+08, 4.12795151e+08,\n",
       "       1.13847411e+09, 3.55219175e+08, 2.90228626e+08, 1.06295663e+09,\n",
       "       1.18009497e+09, 1.45608145e+09, 4.32702334e+08, 4.89945871e+08,\n",
       "       4.65959382e+08, 2.86479167e+09, 2.28869511e+09, 7.20825549e+08,\n",
       "       2.08612420e+09, 1.69019293e+09, 9.91336132e+08, 5.93917618e+08,\n",
       "       2.00972675e+08, 7.10149670e+07, 5.60222750e+08, 1.80661770e+09,\n",
       "       7.73377710e+07, 5.28544703e+08, 8.65640097e+08, 2.15934669e+09,\n",
       "       2.11372494e+08, 6.51732901e+08, 6.08334048e+08, 8.63756573e+08,\n",
       "       7.97402345e+08, 1.69571202e+09, 1.75956800e+09, 2.23319934e+08,\n",
       "       5.49379910e+07, 2.26897599e+08, 2.58316038e+08, 5.96152090e+08,\n",
       "       1.77129919e+08, 7.16591492e+08, 1.21059949e+09, 2.46376690e+08,\n",
       "       4.96311364e+08, 1.46789379e+08, 8.43309044e+08, 5.00340342e+08,\n",
       "       1.07255472e+08, 1.35079152e+08, 8.22239726e+08, 1.20272268e+09,\n",
       "       3.43197054e+08, 2.40769997e+08, 4.26204830e+08, 4.21135627e+08,\n",
       "       5.54875730e+08, 4.67727006e+08, 3.27498031e+08, 1.85408548e+08,\n",
       "       2.45400167e+08, 5.79395142e+08, 6.75039469e+08, 2.52871192e+08,\n",
       "       2.31996128e+08, 1.92977026e+09, 9.18915401e+08, 1.18089632e+09,\n",
       "       4.98960285e+08, 6.85071800e+08, 2.58714692e+08, 1.43139338e+08,\n",
       "       2.09768491e+08, 6.47145730e+07, 5.07466200e+07, 1.54119539e+08,\n",
       "       1.81328253e+08, 3.70068639e+08, 2.28056609e+09, 5.63902868e+08,\n",
       "       3.17622165e+08, 2.91709698e+08, 2.03680270e+08, 8.13507450e+07,\n",
       "       2.82883169e+08, 6.47879430e+07, 2.48481292e+09, 4.61437791e+08,\n",
       "       1.43919137e+09, 7.59208783e+08, 3.68646862e+08, 2.99634472e+08,\n",
       "       7.56907987e+08, 6.82475162e+08, 5.46191065e+08, 2.29473310e+08,\n",
       "       2.02677468e+08, 1.21913181e+08, 2.08166039e+08, 5.27033089e+08,\n",
       "       9.46164870e+07, 3.94030335e+08, 1.93443895e+08, 2.99648208e+08,\n",
       "       1.82978249e+08, 3.19757142e+08, 1.09091573e+08, 1.53240879e+08,\n",
       "       3.46127840e+08, 3.12622938e+08, 2.19701068e+09, 1.20080849e+09,\n",
       "       7.97196073e+08, 1.97067330e+09, 6.65765558e+08, 2.63779030e+08,\n",
       "       3.39473453e+08, 2.20408073e+09, 2.59122426e+09, 1.35444283e+08,\n",
       "       1.45713930e+09, 2.36872197e+08, 6.94525298e+08, 2.40661097e+08,\n",
       "       4.21365166e+08, 3.49746291e+08, 2.55120451e+08, 1.90981339e+08,\n",
       "       9.24193303e+08, 3.05771063e+08, 2.73005485e+08, 8.95665120e+07,\n",
       "       6.77389855e+08, 7.54762090e+07, 4.08843328e+08, 1.87772591e+08,\n",
       "       1.78512385e+08, 1.01780047e+08, 1.18381354e+08, 1.46363130e+08,\n",
       "       1.26443991e+08, 1.57990698e+08, 1.76290831e+08, 1.02318713e+09,\n",
       "       1.06933107e+08, 1.39193812e+08, 2.12234990e+08, 1.71449100e+09,\n",
       "       1.97643795e+08, 8.07015863e+08, 9.33815613e+08, 4.99710590e+08,\n",
       "       1.20847157e+08, 5.39091460e+07, 2.23666793e+09, 2.12330972e+09,\n",
       "       3.01242089e+08, 2.37351106e+08, 4.61558540e+08, 4.17230415e+08,\n",
       "       1.56898322e+08, 1.27309180e+08, 3.13113297e+08, 1.73702135e+08,\n",
       "       2.71666301e+08, 3.05650299e+08, 1.23216717e+08, 4.79655659e+08,\n",
       "       1.26191104e+08, 3.44055883e+08, 3.38422004e+08, 6.88956440e+07,\n",
       "       8.61768900e+07, 4.03231558e+08, 3.19546754e+08, 6.17398390e+07,\n",
       "       2.83359161e+08, 7.68318760e+07, 2.83332261e+08, 3.07752576e+08,\n",
       "       2.79737940e+08, 2.12351890e+08, 1.30431395e+09, 1.50500965e+08,\n",
       "       2.46127838e+08, 5.82863434e+08, 5.86874250e+07, 2.12109195e+08,\n",
       "       3.82199619e+08, 4.12100870e+07, 2.31657891e+08, 5.37291940e+07,\n",
       "       2.44741137e+08, 4.24855710e+07, 3.77781880e+07, 2.54218729e+08,\n",
       "       5.36034470e+07, 1.60035717e+08, 1.64163229e+08, 3.70915760e+07,\n",
       "       2.84249832e+08, 3.33814540e+07, 1.84622518e+08, 3.00983101e+08,\n",
       "       1.21077868e+08, 1.06919680e+08, 1.36996305e+08, 6.57199300e+07,\n",
       "       2.29497852e+08, 1.85550869e+08, 5.46825940e+07, 2.40580042e+08,\n",
       "       1.28494261e+09, 7.14233240e+07, 2.44891912e+08, 1.32171975e+08,\n",
       "       1.84706613e+08, 1.84826429e+08, 3.02006641e+08, 3.30881149e+08,\n",
       "       3.34733572e+08, 3.66214458e+08, 1.14546317e+08, 2.90833204e+08,\n",
       "       4.48500832e+08, 1.36676504e+08, 1.90625045e+08, 7.90952700e+07,\n",
       "       2.73194684e+08, 3.33146475e+08, 1.94902696e+08, 3.11482393e+08,\n",
       "       1.95918494e+08, 2.48511839e+08, 2.33671263e+08, 1.99587884e+08,\n",
       "       9.17812630e+07, 3.83835984e+08, 2.36060709e+08, 1.89236868e+08,\n",
       "       1.60845341e+08, 5.88955257e+08, 2.38350348e+08, 1.87703102e+08,\n",
       "       2.95307001e+08, 1.38334433e+08, 4.45590495e+08, 2.86739476e+08,\n",
       "       1.12236438e+09, 1.57136970e+08, 1.37070925e+08, 1.83273246e+08,\n",
       "       1.84807630e+08, 1.64856284e+08, 7.04171068e+08, 3.54614964e+08,\n",
       "       2.79717388e+08, 1.95628667e+08, 2.21752937e+08, 2.63280370e+08,\n",
       "       2.13505179e+08, 1.30419412e+08, 1.55795783e+08, 1.55349799e+09,\n",
       "       2.93466523e+08, 7.11366595e+08, 1.91448892e+08, 8.59249920e+07,\n",
       "       1.76103902e+08, 1.21189256e+08, 1.31746175e+08, 2.44790012e+08,\n",
       "       1.29314708e+08, 3.31511413e+08, 2.19196651e+08, 1.70732845e+08,\n",
       "       2.73914335e+08, 1.79061440e+08, 1.85236961e+08, 1.71788484e+08,\n",
       "       3.87080183e+08, 2.64717480e+08, 2.44928911e+08, 9.76104460e+07,\n",
       "       2.87278853e+08, 8.87906111e+08, 1.23473120e+08, 2.95152154e+08,\n",
       "       3.23455692e+08, 2.40918092e+08, 1.91873381e+08, 2.84216603e+08,\n",
       "       2.39411309e+08, 2.65548837e+08, 7.03301727e+08, 2.44585109e+08,\n",
       "       1.89476119e+08, 2.77132266e+08, 2.78920007e+08, 2.22410722e+08,\n",
       "       1.85392587e+08, 2.02452860e+08, 1.60816431e+09, 6.24101957e+08,\n",
       "       1.48461629e+08, 4.70939420e+07, 3.80319238e+08, 2.09106362e+08,\n",
       "       5.39874040e+07, 1.15331792e+08, 2.25093344e+08, 8.46977290e+07,\n",
       "       1.59240673e+08, 1.70709584e+08, 1.54356956e+08, 7.23043854e+08,\n",
       "       2.47689123e+08, 1.76474912e+08, 2.35549288e+08, 1.40430339e+08,\n",
       "       8.55593650e+07, 1.46223492e+08, 1.87701588e+08, 1.54863153e+08,\n",
       "       1.91333656e+08, 2.53650850e+08, 2.23064273e+08, 1.70413877e+08,\n",
       "       2.18320587e+08, 1.41720999e+08, 1.87339835e+08, 1.98365537e+08,\n",
       "       1.86104310e+08, 1.77503916e+08, 7.10957080e+07, 1.12436403e+08,\n",
       "       2.03436468e+08, 9.33675370e+07, 1.06249219e+08, 1.81382590e+08,\n",
       "       9.14733630e+07, 1.21871870e+08, 7.35136830e+07, 1.33895612e+08,\n",
       "       9.60073910e+07])"
      ]
     },
     "execution_count": 147,
     "metadata": {},
     "output_type": "execute_result"
    }
   ],
   "source": [
    "spotify_df['streams'].unique()"
   ]
  },
  {
   "cell_type": "markdown",
   "metadata": {},
   "source": [
    "As you can see, the data type of variable is of object data type or strings. We will replace the data type of the variable to a numeric type with replacing all invalid value to 'nan'. This conversion will be beneficial for the computations in the succeeding sections."
   ]
  },
  {
   "cell_type": "code",
   "execution_count": 148,
   "metadata": {},
   "outputs": [],
   "source": [
    "spotify_df['streams'] = pd.to_numeric(spotify_df['streams'], errors='coerce')"
   ]
  },
  {
   "cell_type": "code",
   "execution_count": 149,
   "metadata": {},
   "outputs": [
    {
     "name": "stdout",
     "output_type": "stream",
     "text": [
      "514136859\n"
     ]
    }
   ],
   "source": [
    "mean_value = pd.to_numeric(spotify_df['streams'], errors='coerce').mean()\n",
    "mean_value = round(mean_value)\n",
    "print(mean_value)"
   ]
  },
  {
   "cell_type": "markdown",
   "metadata": {},
   "source": [
    "For all 'nan' values, we will replace it with the mean of 'streams' variable."
   ]
  },
  {
   "cell_type": "code",
   "execution_count": 150,
   "metadata": {},
   "outputs": [],
   "source": [
    "for index, value in spotify_df['streams'].items():\n",
    "    try:\n",
    "        intvalue = int(value)\n",
    "        spotify_df.at[index, 'streams'] = intvalue\n",
    "    except (ValueError, TypeError):\n",
    "        spotify_df.at[index, 'streams'] = mean_value"
   ]
  },
  {
   "cell_type": "code",
   "execution_count": 151,
   "metadata": {},
   "outputs": [
    {
     "data": {
      "text/plain": [
       "dtype('float64')"
      ]
     },
     "execution_count": 151,
     "metadata": {},
     "output_type": "execute_result"
    }
   ],
   "source": [
    "spotify_df['streams'].dtypes"
   ]
  },
  {
   "cell_type": "markdown",
   "metadata": {},
   "source": [
    "As you can see, we now have converted the data type of 'streams' variable to a numeric data type."
   ]
  },
  {
   "cell_type": "markdown",
   "metadata": {},
   "source": [
    "## Exploratory Data Analysis"
   ]
  },
  {
   "cell_type": "markdown",
   "metadata": {},
   "source": [
    "##### **Question 1:** What is the most frequently released year of songs in the dataset?\n"
   ]
  },
  {
   "cell_type": "markdown",
   "metadata": {},
   "source": [
    "The reason for the this question is that we want to find the year where the most streamed music were released, giving us a better insight of songs that stayed relevant after they were released."
   ]
  },
  {
   "cell_type": "markdown",
   "metadata": {},
   "source": [
    "To answer this question, the variable of interest is:\n",
    "- **`released_year`**: the year the song was released"
   ]
  },
  {
   "cell_type": "markdown",
   "metadata": {},
   "source": [
    "##### **Numeric Summaries:**"
   ]
  },
  {
   "cell_type": "markdown",
   "metadata": {},
   "source": [
    "##### &emsp; Measures of Dispersion"
   ]
  },
  {
   "cell_type": "markdown",
   "metadata": {},
   "source": [
    "1. Mode\n"
   ]
  },
  {
   "cell_type": "markdown",
   "metadata": {},
   "source": [
    "We will find the mode of the dataset to see what the most frequent released year in the dataset.\n",
    " \n",
    "The first step to analyze the most frequent released dates is to see the list of years. The code below will generate the series of column \"released_year\"."
   ]
  },
  {
   "cell_type": "code",
   "execution_count": 152,
   "metadata": {},
   "outputs": [
    {
     "data": {
      "text/plain": [
       "0      2023\n",
       "1      2023\n",
       "2      2023\n",
       "3      2019\n",
       "4      2023\n",
       "       ... \n",
       "948    2022\n",
       "949    2022\n",
       "950    2022\n",
       "951    2022\n",
       "952    2022\n",
       "Name: released_year, Length: 953, dtype: int64"
      ]
     },
     "execution_count": 152,
     "metadata": {},
     "output_type": "execute_result"
    }
   ],
   "source": [
    "spotify_df[\"released_year\"]"
   ]
  },
  {
   "cell_type": "markdown",
   "metadata": {},
   "source": [
    "As you can see this will result to the years when each songs were released . We want to see the COUNT of songs released by year. To do that we need to use the value_counts() method that will show the most frequently occuring element in descending order."
   ]
  },
  {
   "cell_type": "code",
   "execution_count": 153,
   "metadata": {},
   "outputs": [
    {
     "data": {
      "text/plain": [
       "released_year\n",
       "2022    402\n",
       "2023    175\n",
       "2021    119\n",
       "2020     37\n",
       "2019     36\n",
       "2017     23\n",
       "2016     18\n",
       "2014     13\n",
       "2013     13\n",
       "2015     11\n",
       "2018     10\n",
       "2012     10\n",
       "2011     10\n",
       "2010      7\n",
       "2002      6\n",
       "1999      5\n",
       "1984      4\n",
       "2000      4\n",
       "2004      4\n",
       "1963      3\n",
       "1958      3\n",
       "1995      2\n",
       "1970      2\n",
       "1959      2\n",
       "1985      2\n",
       "1957      2\n",
       "1986      2\n",
       "2003      2\n",
       "1991      2\n",
       "2008      2\n",
       "1975      2\n",
       "1982      2\n",
       "1946      1\n",
       "2005      1\n",
       "1942      1\n",
       "1996      1\n",
       "1998      1\n",
       "1950      1\n",
       "1979      1\n",
       "2007      1\n",
       "1952      1\n",
       "1971      1\n",
       "1994      1\n",
       "1930      1\n",
       "1973      1\n",
       "1997      1\n",
       "1968      1\n",
       "1992      1\n",
       "1983      1\n",
       "1987      1\n",
       "Name: count, dtype: int64"
      ]
     },
     "execution_count": 153,
     "metadata": {},
     "output_type": "execute_result"
    }
   ],
   "source": [
    "spotify_df[\"released_year\"].value_counts()"
   ]
  },
  {
   "cell_type": "markdown",
   "metadata": {},
   "source": [
    "    The result shows that the most frequent year(mode) is 2022 with 402 songs released, and 2023 coming in second with 175 songs. "
   ]
  },
  {
   "cell_type": "markdown",
   "metadata": {},
   "source": [
    "##### &emsp; Visualization"
   ]
  },
  {
   "cell_type": "markdown",
   "metadata": {},
   "source": [
    "We decided to use a bar plot to visualize the frequency of year since it's a categorical Data."
   ]
  },
  {
   "cell_type": "markdown",
   "metadata": {},
   "source": [
    "The first step is to extract the aggregated `released_year` column into a new dataframe."
   ]
  },
  {
   "cell_type": "code",
   "execution_count": 154,
   "metadata": {},
   "outputs": [],
   "source": [
    "year_count_df = spotify_df['released_year'].value_counts()"
   ]
  },
  {
   "cell_type": "markdown",
   "metadata": {},
   "source": [
    "Now we can create the bar plot to show the frequency of released year in the dataset."
   ]
  },
  {
   "cell_type": "code",
   "execution_count": 155,
   "metadata": {},
   "outputs": [
    {
     "data": {
      "text/plain": [
       "Text(0.5, 1.0, 'Freuency Count of songs released by year')"
      ]
     },
     "execution_count": 155,
     "metadata": {},
     "output_type": "execute_result"
    },
    {
     "data": {
      "image/png": "[encoded data removed]",
      "text/plain": [
       "<Figure size 600x700 with 1 Axes>"
      ]
     },
     "metadata": {},
     "output_type": "display_data"
    }
   ],
   "source": [
    "year_count_df.plot.barh(figsize=(6,7)).invert_yaxis()\n",
    "plt.xlabel('Count')\n",
    "plt.ylabel('Released Year')\n",
    "plt.title('Freuency Count of songs released by year')"
   ]
  },
  {
   "cell_type": "markdown",
   "metadata": {},
   "source": [
    "    The results from both Numeric summaries and visualization shows that the Songs released from year 2022 were the most streamed in the year 2023. We can see that there is a huge gap between the first and second year. This suggests that the year 2022 has the most songs that stayed relevant after one year. "
   ]
  },
  {
   "cell_type": "markdown",
   "metadata": {},
   "source": [
    "##### **Question 2:** What is the distribution of audio features in the dataset?"
   ]
  },
  {
   "cell_type": "markdown",
   "metadata": {},
   "source": [
    "This question is reasonable as it helps us understand the the distribution of audio features(e.g. valence, energy) in the dataset. The answer to this question gives Music Producers the ability to compare their songs and align them with popular preferences. Most importantly, Music Streaming Services such as Spotify will have a better understanding on how to recommend songs to users based on preference."
   ]
  },
  {
   "cell_type": "markdown",
   "metadata": {},
   "source": [
    "To answer this question, the variables of interest are:\n",
    "- **`danceability_%`**: The Percentage indicating a song's suitability for dancing\n",
    "- **`valence_%`**: The Percentage indicating the positivity of the song's musical content\n",
    "- **`energy_%`**: The Perceived energy lever percentage of the song\n",
    "- **`acousticness_%`**: The amount of acoustic sound in the song\n",
    "- **`instrumentalness_%`**: The amount of instrumental content in the song\n",
    "- **`liveness_%`**: The presence of live performance elements\n",
    "- **`speechiness_%`**: the amount of spoken words in the song"
   ]
  },
  {
   "cell_type": "markdown",
   "metadata": {},
   "source": [
    "##### **Numeric Summaries:**"
   ]
  },
  {
   "cell_type": "markdown",
   "metadata": {},
   "source": [
    "##### &emsp; Measures of Dispersion"
   ]
  },
  {
   "cell_type": "markdown",
   "metadata": {},
   "source": [
    "1. Mean"
   ]
  },
  {
   "cell_type": "markdown",
   "metadata": {},
   "source": [
    "To answer this question we first have to look at the mean for each feature to get a general understanding of each feature. The most efficient way to get the mean of each and every audio feature is to store it in alist. Once stored, we create a DataFrame, which is called, \"audio_mean\" by selecting only the columns(audio_features). This will allow us to get the mean of the features we want to get."
   ]
  },
  {
   "cell_type": "code",
   "execution_count": 156,
   "metadata": {},
   "outputs": [
    {
     "name": "stdout",
     "output_type": "stream",
     "text": [
      "danceability_%        66.97\n",
      "valence_%             51.43\n",
      "energy_%              64.28\n",
      "acousticness_%        27.06\n",
      "instrumentalness_%     1.58\n",
      "liveness_%            18.21\n",
      "speechiness_%         10.13\n",
      "dtype: float64\n"
     ]
    }
   ],
   "source": [
    "audio_features = ['danceability_%', 'valence_%', 'energy_%', 'acousticness_%', \n",
    "                  'instrumentalness_%', 'liveness_%', 'speechiness_%']\n",
    "audio_mean = round(spotify_df[audio_features].mean(), 2)\n",
    "\n",
    "print(audio_mean)\n"
   ]
  },
  {
   "cell_type": "markdown",
   "metadata": {},
   "source": [
    "Now lets analyze what we have been given.\n",
    "\n",
    "On Average, the songs in the dataset are perceived as fairly danceable, moderately energetic and shows happiness in their musical content. It fairly has a moderate amount of acoustic sound, however, the average of intrumentalness, liveness, and the average amount of spoken words are fairly low, going less than 20%.  \n"
   ]
  },
  {
   "cell_type": "markdown",
   "metadata": {},
   "source": [
    "2. Median"
   ]
  },
  {
   "cell_type": "markdown",
   "metadata": {},
   "source": [
    "We may also calculate the median for each audio feature. Although it is less sensitive to extreme outliers, it helps assess the central tendency for each audio feature."
   ]
  },
  {
   "cell_type": "code",
   "execution_count": 157,
   "metadata": {},
   "outputs": [
    {
     "name": "stdout",
     "output_type": "stream",
     "text": [
      "danceability_%        69.0\n",
      "valence_%             51.0\n",
      "energy_%              66.0\n",
      "acousticness_%        18.0\n",
      "instrumentalness_%     0.0\n",
      "liveness_%            12.0\n",
      "speechiness_%          6.0\n",
      "dtype: float64\n"
     ]
    }
   ],
   "source": [
    "audio_features = ['danceability_%', 'valence_%', 'energy_%', 'acousticness_%', \n",
    "                  'instrumentalness_%', 'liveness_%', 'speechiness_%']\n",
    "audio_median = spotify_df[audio_features].median()\n",
    "\n",
    "print(audio_median)\n"
   ]
  },
  {
   "cell_type": "markdown",
   "metadata": {},
   "source": [
    "Now lets analyze what we have been given.\n",
    "\n",
    "From what we can observe, if we were to compare each and every audio feature in terms of average and median percentage, some audio features such as, \n",
    "\n",
    "Danceability, Valence, Energy, and Instrumentalness are close, with a 1-3% difference.\n",
    "While for liveness and speechiness, there is a great difference between them. "
   ]
  },
  {
   "cell_type": "markdown",
   "metadata": {},
   "source": [
    "    The result shows that the songs on the dataset, have a mix of genres where some are danceable, while some are not. Some have a high valence percentage, while some do not, and many more. In conclusion, the dataset don't have many sugnificant outliers as we compared the mean and the median percentage of the audio features."
   ]
  },
  {
   "cell_type": "markdown",
   "metadata": {},
   "source": [
    "##### &emsp; Visualization\n",
    "We decided to use a Histogram to visualize an audio feature's distribution since it's a Numerical Data.\n",
    "The first step is to generate a list which contains the audio feautures since that is what we specifically need."
   ]
  },
  {
   "cell_type": "code",
   "execution_count": 158,
   "metadata": {},
   "outputs": [],
   "source": [
    "audio_feature_columns = [\n",
    "    'danceability_%',\n",
    "    'valence_%',\n",
    "    'energy_%',\n",
    "    'acousticness_%',\n",
    "    'instrumentalness_%',\n",
    "    'liveness_%',\n",
    "    'speechiness_%'\n",
    "]"
   ]
  },
  {
   "cell_type": "markdown",
   "metadata": {},
   "source": [
    "Now we can create the histogram for each audio feature. Since we have a created list. We can use a for loop to loop through the list to create histograms for each audio feature. And before that, we need to create a 2D array of subplot objects which is created using Matplotlib. This will be used to organie each and every subplot and putting them all into one single figure or frame."
   ]
  },
  {
   "cell_type": "code",
   "execution_count": 159,
   "metadata": {},
   "outputs": [
    {
     "data": {
      "image/png": "[encoded data removed]",
      "text/plain": [
       "<Figure size 1500x1000 with 9 Axes>"
      ]
     },
     "metadata": {},
     "output_type": "display_data"
    }
   ],
   "source": [
    "# Create subplots for each audio feature\n",
    "fig, axes = plt.subplots(nrows=3, ncols=3, figsize=(15, 10))\n",
    "fig.subplots_adjust(hspace=0.5)\n",
    "\n",
    "for i, feature in enumerate(audio_feature_columns):\n",
    "    row = i // 3\n",
    "    col = i % 3\n",
    "    histo = axes[row][col]\n",
    "\n",
    "\n",
    "    histo.hist(spotify_df[feature], bins=20, color='skyblue', edgecolor='black')\n",
    "    histo.set_title(f'Histogram of {feature}')\n",
    "    histo.set_xlabel('Song')\n",
    "    histo.set_ylabel('Percentage')\n",
    "\n",
    "plt.show()"
   ]
  },
  {
   "cell_type": "markdown",
   "metadata": {},
   "source": [
    "    The results from both Numeric summaries and visualization shows that the Songs are positively skewed in terms of its audio feautues. However, the audio feature that is symmetrically distributed is the the Valence."
   ]
  },
  {
   "cell_type": "markdown",
   "metadata": {},
   "source": [
    "##### **Question 3:** Is there a relationship between danceability and energy in songs?"
   ]
  },
  {
   "cell_type": "markdown",
   "metadata": {},
   "source": [
    "This question is relevant because it addresses whether relating this with each other helps with the recommendation of songs for users. This can also help easily choose songs that aligns with the desired atmosphere or energy level for an audience, whether it is during a wedding, parties, bars, etc."
   ]
  },
  {
   "cell_type": "markdown",
   "metadata": {},
   "source": [
    "To answer this question, the variables of interest are:\n",
    "- **`danceability_%`** - the perceived percentage indicating how suitable the song is for dancing\n",
    "- **`valence_%`** - the perceived percentage of the positivity of the song's musical content\n",
    "- **`energy_%`** - the perceived energy level percentage of the song"
   ]
  },
  {
   "cell_type": "markdown",
   "metadata": {},
   "source": [
    "##### **Numeric Summaries:**\n",
    "##### &emsp; Measures of Dispersion\n",
    "1. Mean\n",
    "\n",
    "We will find the correlation efficient because this will provide us the strength of both variables' relationship with each other. Finding the correlation efficient allows us to understand direction of its relationship. We thought of finding the mean, however, for this particular question it will not be as helpful since it only provides the average values of danceability and energy.\n",
    "\n",
    "The first step is to determine what variables will be needed. And as you may see above, it has already been given. The second step, is to create a variable that contain the data so that we won't get confused. "
   ]
  },
  {
   "cell_type": "code",
   "execution_count": 160,
   "metadata": {},
   "outputs": [],
   "source": [
    "dance_energy = spotify_df[['danceability_%', 'energy_%']]"
   ]
  },
  {
   "cell_type": "markdown",
   "metadata": {},
   "source": [
    "Once that is done, we can calculate its correlation coefficient by using the 'corr' function since we have already imported pandas."
   ]
  },
  {
   "cell_type": "code",
   "execution_count": 161,
   "metadata": {},
   "outputs": [
    {
     "name": "stdout",
     "output_type": "stream",
     "text": [
      "                danceability_%  energy_%\n",
      "danceability_%        1.000000  0.198095\n",
      "energy_%              0.198095  1.000000\n"
     ]
    }
   ],
   "source": [
    "relationship = dance_energy.corr()\n",
    "#relationship = spotify_df['danceability_%'].corr(spotify_df['energy_%'], method='pearson')\n",
    "print(relationship)"
   ]
  },
  {
   "cell_type": "markdown",
   "metadata": {},
   "source": [
    "    From what we have observed, the correlation coefficient between danceability and energy is approximately 0.1981."
   ]
  },
  {
   "cell_type": "markdown",
   "metadata": {},
   "source": [
    "##### &emsp; Visualization\n",
    "We decided to use a Scatterplot to visualize the relationship between the Danceability and Energy.\n",
    "And the only step needed is to use the previous variable, \"dance_energy\" to create a scatter plot."
   ]
  },
  {
   "cell_type": "code",
   "execution_count": 162,
   "metadata": {},
   "outputs": [
    {
     "data": {
      "text/plain": [
       "Text(0.5, 1.0, 'Relationship of Danceability and Valence of a Song')"
      ]
     },
     "execution_count": 162,
     "metadata": {},
     "output_type": "execute_result"
    },
    {
     "data": {
      "image/png": "[encoded data removed]",
      "text/plain": [
       "<Figure size 640x480 with 1 Axes>"
      ]
     },
     "metadata": {},
     "output_type": "display_data"
    }
   ],
   "source": [
    "dance_energy.plot.scatter(x = 'danceability_%', y = 'energy_%', alpha = 0.5)\n",
    "plt.title('Relationship of Danceability and Valence of a Song')"
   ]
  },
  {
   "cell_type": "markdown",
   "metadata": {},
   "source": [
    "    From what we have observed, there is a weak correlation coefficient between danceability and energy. Despite that there is a positive correlation, indicating a slight tendency for song sin the dataset are perceived as more danceable to also be perceived as having slightly higher energy, but the relationship isn't as strong."
   ]
  },
  {
   "cell_type": "markdown",
   "metadata": {},
   "source": [
    "What is the most frequently used note in the dataset"
   ]
  },
  {
   "cell_type": "code",
   "execution_count": 163,
   "metadata": {},
   "outputs": [
    {
     "data": {
      "text/html": [
       "<div>\n",
       "<style scoped>\n",
       "    .dataframe tbody tr th:only-of-type {\n",
       "        vertical-align: middle;\n",
       "    }\n",
       "\n",
       "    .dataframe tbody tr th {\n",
       "        vertical-align: top;\n",
       "    }\n",
       "\n",
       "    .dataframe thead th {\n",
       "        text-align: right;\n",
       "    }\n",
       "</style>\n",
       "<table border=\"1\" class=\"dataframe\">\n",
       "  <thead>\n",
       "    <tr style=\"text-align: right;\">\n",
       "      <th></th>\n",
       "      <th>in_spotify_charts</th>\n",
       "      <th>in_apple_charts</th>\n",
       "      <th>in_deezer_charts</th>\n",
       "    </tr>\n",
       "  </thead>\n",
       "  <tbody>\n",
       "    <tr>\n",
       "      <th>0</th>\n",
       "      <td>147</td>\n",
       "      <td>263</td>\n",
       "      <td>10</td>\n",
       "    </tr>\n",
       "    <tr>\n",
       "      <th>1</th>\n",
       "      <td>48</td>\n",
       "      <td>126</td>\n",
       "      <td>14</td>\n",
       "    </tr>\n",
       "    <tr>\n",
       "      <th>2</th>\n",
       "      <td>113</td>\n",
       "      <td>207</td>\n",
       "      <td>14</td>\n",
       "    </tr>\n",
       "    <tr>\n",
       "      <th>3</th>\n",
       "      <td>100</td>\n",
       "      <td>207</td>\n",
       "      <td>12</td>\n",
       "    </tr>\n",
       "    <tr>\n",
       "      <th>4</th>\n",
       "      <td>50</td>\n",
       "      <td>133</td>\n",
       "      <td>15</td>\n",
       "    </tr>\n",
       "    <tr>\n",
       "      <th>...</th>\n",
       "      <td>...</td>\n",
       "      <td>...</td>\n",
       "      <td>...</td>\n",
       "    </tr>\n",
       "    <tr>\n",
       "      <th>948</th>\n",
       "      <td>0</td>\n",
       "      <td>13</td>\n",
       "      <td>1</td>\n",
       "    </tr>\n",
       "    <tr>\n",
       "      <th>949</th>\n",
       "      <td>0</td>\n",
       "      <td>0</td>\n",
       "      <td>0</td>\n",
       "    </tr>\n",
       "    <tr>\n",
       "      <th>950</th>\n",
       "      <td>0</td>\n",
       "      <td>0</td>\n",
       "      <td>0</td>\n",
       "    </tr>\n",
       "    <tr>\n",
       "      <th>951</th>\n",
       "      <td>0</td>\n",
       "      <td>26</td>\n",
       "      <td>0</td>\n",
       "    </tr>\n",
       "    <tr>\n",
       "      <th>952</th>\n",
       "      <td>2</td>\n",
       "      <td>18</td>\n",
       "      <td>1</td>\n",
       "    </tr>\n",
       "  </tbody>\n",
       "</table>\n",
       "<p>953 rows × 3 columns</p>\n",
       "</div>"
      ],
      "text/plain": [
       "     in_spotify_charts  in_apple_charts  in_deezer_charts\n",
       "0                  147              263                10\n",
       "1                   48              126                14\n",
       "2                  113              207                14\n",
       "3                  100              207                12\n",
       "4                   50              133                15\n",
       "..                 ...              ...               ...\n",
       "948                  0               13                 1\n",
       "949                  0                0                 0\n",
       "950                  0                0                 0\n",
       "951                  0               26                 0\n",
       "952                  2               18                 1\n",
       "\n",
       "[953 rows x 3 columns]"
      ]
     },
     "execution_count": 163,
     "metadata": {},
     "output_type": "execute_result"
    }
   ],
   "source": [
    "stream_key = spotify_df[['in_spotify_charts', 'in_apple_charts', 'in_deezer_charts']]\n",
    "stream_key"
   ]
  },
  {
   "cell_type": "markdown",
   "metadata": {},
   "source": [
    "##### **Question 4:** What key has the highest average stream?"
   ]
  },
  {
   "cell_type": "markdown",
   "metadata": {},
   "source": [
    "This questions will help us know what key of the songs that has the highest average stream. Knowing the key would help us understand what keys people prefer in a song and it could be used to give artists ideas on what keys they should use to create a popular song."
   ]
  },
  {
   "cell_type": "markdown",
   "metadata": {},
   "source": [
    "To answer this question, the variables of interest are:\n",
    "- **`stream`**: the total number of streams on Spotify\n",
    "- **`key`**: the key of the song"
   ]
  },
  {
   "cell_type": "markdown",
   "metadata": {},
   "source": [
    "##### **Numeric Summaries:**\n",
    "##### &emsp; Correlation\n",
    "1. Mean\n",
    "In this question, we want to know the mean of the stream PER key. To do that we need to use the groupby() function along with the agg() function to get the result. Inside the agg() function we need to specify what we want to aggregate, in this case, we want to aggregate based on the mean of the stream. The groupby() function will group the table by key and the agg() will compress the value of the stream of the songs withthe same key.\n",
    "\n",
    "\n"
   ]
  },
  {
   "cell_type": "code",
   "execution_count": 164,
   "metadata": {},
   "outputs": [
    {
     "name": "stdout",
     "output_type": "stream",
     "text": [
      "          streams\n",
      "             mean\n",
      "key              \n",
      "A    4.102382e+08\n",
      "A#   5.524754e+08\n",
      "B    5.193480e+08\n",
      "C#   6.042802e+08\n",
      "D    5.295256e+08\n",
      "D#   5.530365e+08\n",
      "E    5.774972e+08\n",
      "F    4.684464e+08\n",
      "F#   5.223632e+08\n",
      "G    4.525994e+08\n",
      "G#   4.769119e+08\n"
     ]
    }
   ],
   "source": [
    "key_streams = spotify_df.groupby(\"key\").agg({\"streams\" : [\"mean\"]})\n",
    "print(key_streams)"
   ]
  },
  {
   "cell_type": "markdown",
   "metadata": {},
   "source": [
    "Next to see the the highest average we need to sort it in descending order."
   ]
  },
  {
   "cell_type": "code",
   "execution_count": 165,
   "metadata": {},
   "outputs": [
    {
     "name": "stdout",
     "output_type": "stream",
     "text": [
      "          streams\n",
      "             mean\n",
      "key              \n",
      "C#   6.042802e+08\n",
      "E    5.774972e+08\n",
      "D#   5.530365e+08\n",
      "A#   5.524754e+08\n",
      "D    5.295256e+08\n",
      "F#   5.223632e+08\n",
      "B    5.193480e+08\n",
      "G#   4.769119e+08\n",
      "F    4.684464e+08\n",
      "G    4.525994e+08\n",
      "A    4.102382e+08\n"
     ]
    }
   ],
   "source": [
    "key_streams = key_streams.sort_values((\"streams\",\"mean\"), ascending=False)\n",
    "print(key_streams)"
   ]
  },
  {
   "cell_type": "markdown",
   "metadata": {},
   "source": [
    "    The result shows that the key C# has the highest average stream in the database. The difference in the stream of the first and second highest key is around 26,783,059.48 which indicate that there is a significant difference between the average streams of this two key. This shows that C# is the key used by songs that get the most streams. "
   ]
  },
  {
   "cell_type": "markdown",
   "metadata": {},
   "source": [
    "##### &emsp; Visualization\n",
    "We decided to use a Bar plot to represent the key since it is  Categorial data."
   ]
  },
  {
   "cell_type": "code",
   "execution_count": 166,
   "metadata": {},
   "outputs": [
    {
     "data": {
      "text/plain": [
       "Text(0.5, 1.0, 'Average per key')"
      ]
     },
     "execution_count": 166,
     "metadata": {},
     "output_type": "execute_result"
    },
    {
     "data": {
      "image/png": "[encoded data removed]",
      "text/plain": [
       "<Figure size 600x700 with 1 Axes>"
      ]
     },
     "metadata": {},
     "output_type": "display_data"
    }
   ],
   "source": [
    "key_streams.plot.barh(figsize=(6,7))\n",
    "\n",
    "plt.xlabel('Average')\n",
    "plt.ylabel('key')\n",
    "plt.title('Average per key')"
   ]
  },
  {
   "cell_type": "markdown",
   "metadata": {},
   "source": [
    "    The results from both Numeric summaries and visualization shows that the Songs that has a C# key has the highest average streams out of all keys. This result can help us and other artist to identify which keys would be more popular."
   ]
  },
  {
   "cell_type": "markdown",
   "metadata": {},
   "source": [
    "## Research Question"
   ]
  },
  {
   "cell_type": "markdown",
   "metadata": {},
   "source": [
    "Can songs be systematically categorized based on their musical characteristics, and do these categories offer insights into the factors driving the success of songs on different streaming platforms?"
   ]
  },
  {
   "cell_type": "markdown",
   "metadata": {},
   "source": [
    "The result from the exploratory data analysis helped us understand more about the characteristics of the songs in the database. The first question \"What is the most frequently released year of songs in the dataset?\" shows us the year when the most streamed songs were created, it made us curious whether the songs from 2022, the most frequent year, had common characteristics that we can utilize to identify why these songs are so successful. \n",
    "\n",
    "From there we tried to identify and explore the characteristics of the songs that could have contributed to it. The second question, third, and fourth questions helped us understand the characteristics that could be used to categorize successful music in the different streaming platforms.\n",
    "\n",
    "\n",
    "The problem is that the dataset is a complex representation of data and it would be difficult to identify its benefit, that is why we want to fix this problem by catgorizing the characteristics so that analysis of data would be easier even for non technical users. This will greatly help artists, and people who want to start in the music industry to have an idea of how to create music based on current successful songs. This will also help platforms to recommend music to listeners based on different kinds of characteristics. "
   ]
  },
  {
   "cell_type": "markdown",
   "metadata": {},
   "source": [
    "## Data Modeling"
   ]
  },
  {
   "cell_type": "markdown",
   "metadata": {},
   "source": [
    "In the next section, we will create a data model for the given dataset. Data modeling is the process of creating a visual representation of the data to illustrate the relationships between the different variables. For this research, we will use multivariate Regression analysis as the data modeling technique to predict the popularity of a song based on its features. In the previous section, we have already shown the correlation between variables to present the strength of the linear relationship between a pair of variables. In this section, we will focus on expressing the relationship between the different variables in the form of an equation, i.e., the different features of the songs in the dataset."
   ]
  },
  {
   "cell_type": "markdown",
   "metadata": {},
   "source": [
    "To create this model, we first extract the independent and dependent variables. The independent variables are the song audio features, while the dependent variables is the song popularity indicator which is the total number of streams. This section aims to examine to if there is a strong correlation between the audio and features in terms of the stream count in Spotify."
   ]
  },
  {
   "cell_type": "code",
   "execution_count": 167,
   "metadata": {},
   "outputs": [],
   "source": [
    "# Split the dataset into independednt (x) and dependent (y) variables\n",
    "x = spotify_df.iloc[:, [17, 18, 19, 20, 21, 22, 23]]\n",
    "y = spotify_df.iloc[:, [8]]"
   ]
  },
  {
   "cell_type": "code",
   "execution_count": 168,
   "metadata": {},
   "outputs": [
    {
     "data": {
      "text/html": [
       "<div>\n",
       "<style scoped>\n",
       "    .dataframe tbody tr th:only-of-type {\n",
       "        vertical-align: middle;\n",
       "    }\n",
       "\n",
       "    .dataframe tbody tr th {\n",
       "        vertical-align: top;\n",
       "    }\n",
       "\n",
       "    .dataframe thead th {\n",
       "        text-align: right;\n",
       "    }\n",
       "</style>\n",
       "<table border=\"1\" class=\"dataframe\">\n",
       "  <thead>\n",
       "    <tr style=\"text-align: right;\">\n",
       "      <th></th>\n",
       "      <th>danceability_%</th>\n",
       "      <th>valence_%</th>\n",
       "      <th>energy_%</th>\n",
       "      <th>acousticness_%</th>\n",
       "      <th>instrumentalness_%</th>\n",
       "      <th>liveness_%</th>\n",
       "      <th>speechiness_%</th>\n",
       "    </tr>\n",
       "  </thead>\n",
       "  <tbody>\n",
       "    <tr>\n",
       "      <th>0</th>\n",
       "      <td>80</td>\n",
       "      <td>89</td>\n",
       "      <td>83</td>\n",
       "      <td>31</td>\n",
       "      <td>0</td>\n",
       "      <td>8</td>\n",
       "      <td>4</td>\n",
       "    </tr>\n",
       "    <tr>\n",
       "      <th>1</th>\n",
       "      <td>71</td>\n",
       "      <td>61</td>\n",
       "      <td>74</td>\n",
       "      <td>7</td>\n",
       "      <td>0</td>\n",
       "      <td>10</td>\n",
       "      <td>4</td>\n",
       "    </tr>\n",
       "    <tr>\n",
       "      <th>2</th>\n",
       "      <td>51</td>\n",
       "      <td>32</td>\n",
       "      <td>53</td>\n",
       "      <td>17</td>\n",
       "      <td>0</td>\n",
       "      <td>31</td>\n",
       "      <td>6</td>\n",
       "    </tr>\n",
       "    <tr>\n",
       "      <th>3</th>\n",
       "      <td>55</td>\n",
       "      <td>58</td>\n",
       "      <td>72</td>\n",
       "      <td>11</td>\n",
       "      <td>0</td>\n",
       "      <td>11</td>\n",
       "      <td>15</td>\n",
       "    </tr>\n",
       "    <tr>\n",
       "      <th>4</th>\n",
       "      <td>65</td>\n",
       "      <td>23</td>\n",
       "      <td>80</td>\n",
       "      <td>14</td>\n",
       "      <td>63</td>\n",
       "      <td>11</td>\n",
       "      <td>6</td>\n",
       "    </tr>\n",
       "    <tr>\n",
       "      <th>...</th>\n",
       "      <td>...</td>\n",
       "      <td>...</td>\n",
       "      <td>...</td>\n",
       "      <td>...</td>\n",
       "      <td>...</td>\n",
       "      <td>...</td>\n",
       "      <td>...</td>\n",
       "    </tr>\n",
       "    <tr>\n",
       "      <th>948</th>\n",
       "      <td>60</td>\n",
       "      <td>24</td>\n",
       "      <td>39</td>\n",
       "      <td>57</td>\n",
       "      <td>0</td>\n",
       "      <td>8</td>\n",
       "      <td>3</td>\n",
       "    </tr>\n",
       "    <tr>\n",
       "      <th>949</th>\n",
       "      <td>42</td>\n",
       "      <td>7</td>\n",
       "      <td>24</td>\n",
       "      <td>83</td>\n",
       "      <td>1</td>\n",
       "      <td>12</td>\n",
       "      <td>6</td>\n",
       "    </tr>\n",
       "    <tr>\n",
       "      <th>950</th>\n",
       "      <td>80</td>\n",
       "      <td>81</td>\n",
       "      <td>67</td>\n",
       "      <td>4</td>\n",
       "      <td>0</td>\n",
       "      <td>8</td>\n",
       "      <td>6</td>\n",
       "    </tr>\n",
       "    <tr>\n",
       "      <th>951</th>\n",
       "      <td>82</td>\n",
       "      <td>67</td>\n",
       "      <td>77</td>\n",
       "      <td>8</td>\n",
       "      <td>0</td>\n",
       "      <td>12</td>\n",
       "      <td>5</td>\n",
       "    </tr>\n",
       "    <tr>\n",
       "      <th>952</th>\n",
       "      <td>61</td>\n",
       "      <td>32</td>\n",
       "      <td>67</td>\n",
       "      <td>15</td>\n",
       "      <td>0</td>\n",
       "      <td>11</td>\n",
       "      <td>5</td>\n",
       "    </tr>\n",
       "  </tbody>\n",
       "</table>\n",
       "<p>953 rows × 7 columns</p>\n",
       "</div>"
      ],
      "text/plain": [
       "     danceability_%  valence_%  energy_%  acousticness_%  instrumentalness_%  \\\n",
       "0                80         89        83              31                   0   \n",
       "1                71         61        74               7                   0   \n",
       "2                51         32        53              17                   0   \n",
       "3                55         58        72              11                   0   \n",
       "4                65         23        80              14                  63   \n",
       "..              ...        ...       ...             ...                 ...   \n",
       "948              60         24        39              57                   0   \n",
       "949              42          7        24              83                   1   \n",
       "950              80         81        67               4                   0   \n",
       "951              82         67        77               8                   0   \n",
       "952              61         32        67              15                   0   \n",
       "\n",
       "     liveness_%  speechiness_%  \n",
       "0             8              4  \n",
       "1            10              4  \n",
       "2            31              6  \n",
       "3            11             15  \n",
       "4            11              6  \n",
       "..          ...            ...  \n",
       "948           8              3  \n",
       "949          12              6  \n",
       "950           8              6  \n",
       "951          12              5  \n",
       "952          11              5  \n",
       "\n",
       "[953 rows x 7 columns]"
      ]
     },
     "execution_count": 168,
     "metadata": {},
     "output_type": "execute_result"
    }
   ],
   "source": [
    "# These are our independent variables\n",
    "x"
   ]
  },
  {
   "cell_type": "code",
   "execution_count": 169,
   "metadata": {},
   "outputs": [
    {
     "data": {
      "text/html": [
       "<div>\n",
       "<style scoped>\n",
       "    .dataframe tbody tr th:only-of-type {\n",
       "        vertical-align: middle;\n",
       "    }\n",
       "\n",
       "    .dataframe tbody tr th {\n",
       "        vertical-align: top;\n",
       "    }\n",
       "\n",
       "    .dataframe thead th {\n",
       "        text-align: right;\n",
       "    }\n",
       "</style>\n",
       "<table border=\"1\" class=\"dataframe\">\n",
       "  <thead>\n",
       "    <tr style=\"text-align: right;\">\n",
       "      <th></th>\n",
       "      <th>streams</th>\n",
       "    </tr>\n",
       "  </thead>\n",
       "  <tbody>\n",
       "    <tr>\n",
       "      <th>0</th>\n",
       "      <td>141381703.0</td>\n",
       "    </tr>\n",
       "    <tr>\n",
       "      <th>1</th>\n",
       "      <td>133716286.0</td>\n",
       "    </tr>\n",
       "    <tr>\n",
       "      <th>2</th>\n",
       "      <td>140003974.0</td>\n",
       "    </tr>\n",
       "    <tr>\n",
       "      <th>3</th>\n",
       "      <td>800840817.0</td>\n",
       "    </tr>\n",
       "    <tr>\n",
       "      <th>4</th>\n",
       "      <td>303236322.0</td>\n",
       "    </tr>\n",
       "    <tr>\n",
       "      <th>...</th>\n",
       "      <td>...</td>\n",
       "    </tr>\n",
       "    <tr>\n",
       "      <th>948</th>\n",
       "      <td>91473363.0</td>\n",
       "    </tr>\n",
       "    <tr>\n",
       "      <th>949</th>\n",
       "      <td>121871870.0</td>\n",
       "    </tr>\n",
       "    <tr>\n",
       "      <th>950</th>\n",
       "      <td>73513683.0</td>\n",
       "    </tr>\n",
       "    <tr>\n",
       "      <th>951</th>\n",
       "      <td>133895612.0</td>\n",
       "    </tr>\n",
       "    <tr>\n",
       "      <th>952</th>\n",
       "      <td>96007391.0</td>\n",
       "    </tr>\n",
       "  </tbody>\n",
       "</table>\n",
       "<p>953 rows × 1 columns</p>\n",
       "</div>"
      ],
      "text/plain": [
       "         streams\n",
       "0    141381703.0\n",
       "1    133716286.0\n",
       "2    140003974.0\n",
       "3    800840817.0\n",
       "4    303236322.0\n",
       "..           ...\n",
       "948   91473363.0\n",
       "949  121871870.0\n",
       "950   73513683.0\n",
       "951  133895612.0\n",
       "952   96007391.0\n",
       "\n",
       "[953 rows x 1 columns]"
      ]
     },
     "execution_count": 169,
     "metadata": {},
     "output_type": "execute_result"
    }
   ],
   "source": [
    "# This is our dependent variable\n",
    "y"
   ]
  },
  {
   "cell_type": "markdown",
   "metadata": {},
   "source": [
    "Split the dataset in training set and test set. The training set will be used to train the linear regression model. With this, the model learns the coefficients for each input feature that aims to find the best-fit line that minimizes the difference between the predicted output and actual output. The main objective in using this is to generalize the data and learn the underlying pattern in our data. With this model, we aim to figure out if there is a consistent pattern in how popular songs trend and whether certain aspects of these songs help them get lots of streams. Once the model is trained, we can use it to make precitions which future singers or songwriters can use in the future."
   ]
  },
  {
   "cell_type": "code",
   "execution_count": 170,
   "metadata": {},
   "outputs": [],
   "source": [
    "from sklearn.model_selection import train_test_split\n",
    "x_train, x_test, y_train, y_test = train_test_split(x, y, test_size = 0.3, random_state = 0)"
   ]
  },
  {
   "cell_type": "markdown",
   "metadata": {},
   "source": [
    "Train the model on the training set."
   ]
  },
  {
   "cell_type": "code",
   "execution_count": 171,
   "metadata": {},
   "outputs": [
    {
     "data": {
      "text/html": [
       "<style>#sk-container-id-4 {color: black;}#sk-container-id-4 pre{padding: 0;}#sk-container-id-4 div.sk-toggleable {background-color: white;}#sk-container-id-4 label.sk-toggleable__label {cursor: pointer;display: block;width: 100%;margin-bottom: 0;padding: 0.3em;box-sizing: border-box;text-align: center;}#sk-container-id-4 label.sk-toggleable__label-arrow:before {content: \"▸\";float: left;margin-right: 0.25em;color: #696969;}#sk-container-id-4 label.sk-toggleable__label-arrow:hover:before {color: black;}#sk-container-id-4 div.sk-estimator:hover label.sk-toggleable__label-arrow:before {color: black;}#sk-container-id-4 div.sk-toggleable__content {max-height: 0;max-width: 0;overflow: hidden;text-align: left;background-color: #f0f8ff;}#sk-container-id-4 div.sk-toggleable__content pre {margin: 0.2em;color: black;border-radius: 0.25em;background-color: #f0f8ff;}#sk-container-id-4 input.sk-toggleable__control:checked~div.sk-toggleable__content {max-height: 200px;max-width: 100%;overflow: auto;}#sk-container-id-4 input.sk-toggleable__control:checked~label.sk-toggleable__label-arrow:before {content: \"▾\";}#sk-container-id-4 div.sk-estimator input.sk-toggleable__control:checked~label.sk-toggleable__label {background-color: #d4ebff;}#sk-container-id-4 div.sk-label input.sk-toggleable__control:checked~label.sk-toggleable__label {background-color: #d4ebff;}#sk-container-id-4 input.sk-hidden--visually {border: 0;clip: rect(1px 1px 1px 1px);clip: rect(1px, 1px, 1px, 1px);height: 1px;margin: -1px;overflow: hidden;padding: 0;position: absolute;width: 1px;}#sk-container-id-4 div.sk-estimator {font-family: monospace;background-color: #f0f8ff;border: 1px dotted black;border-radius: 0.25em;box-sizing: border-box;margin-bottom: 0.5em;}#sk-container-id-4 div.sk-estimator:hover {background-color: #d4ebff;}#sk-container-id-4 div.sk-parallel-item::after {content: \"\";width: 100%;border-bottom: 1px solid gray;flex-grow: 1;}#sk-container-id-4 div.sk-label:hover label.sk-toggleable__label {background-color: #d4ebff;}#sk-container-id-4 div.sk-serial::before {content: \"\";position: absolute;border-left: 1px solid gray;box-sizing: border-box;top: 0;bottom: 0;left: 50%;z-index: 0;}#sk-container-id-4 div.sk-serial {display: flex;flex-direction: column;align-items: center;background-color: white;padding-right: 0.2em;padding-left: 0.2em;position: relative;}#sk-container-id-4 div.sk-item {position: relative;z-index: 1;}#sk-container-id-4 div.sk-parallel {display: flex;align-items: stretch;justify-content: center;background-color: white;position: relative;}#sk-container-id-4 div.sk-item::before, #sk-container-id-4 div.sk-parallel-item::before {content: \"\";position: absolute;border-left: 1px solid gray;box-sizing: border-box;top: 0;bottom: 0;left: 50%;z-index: -1;}#sk-container-id-4 div.sk-parallel-item {display: flex;flex-direction: column;z-index: 1;position: relative;background-color: white;}#sk-container-id-4 div.sk-parallel-item:first-child::after {align-self: flex-end;width: 50%;}#sk-container-id-4 div.sk-parallel-item:last-child::after {align-self: flex-start;width: 50%;}#sk-container-id-4 div.sk-parallel-item:only-child::after {width: 0;}#sk-container-id-4 div.sk-dashed-wrapped {border: 1px dashed gray;margin: 0 0.4em 0.5em 0.4em;box-sizing: border-box;padding-bottom: 0.4em;background-color: white;}#sk-container-id-4 div.sk-label label {font-family: monospace;font-weight: bold;display: inline-block;line-height: 1.2em;}#sk-container-id-4 div.sk-label-container {text-align: center;}#sk-container-id-4 div.sk-container {/* jupyter's `normalize.less` sets `[hidden] { display: none; }` but bootstrap.min.css set `[hidden] { display: none !important; }` so we also need the `!important` here to be able to override the default hidden behavior on the sphinx rendered scikit-learn.org. See: https://github.com/scikit-learn/scikit-learn/issues/21755 */display: inline-block !important;position: relative;}#sk-container-id-4 div.sk-text-repr-fallback {display: none;}</style><div id=\"sk-container-id-4\" class=\"sk-top-container\"><div class=\"sk-text-repr-fallback\"><pre>LinearRegression()</pre><b>In a Jupyter environment, please rerun this cell to show the HTML representation or trust the notebook. <br />On GitHub, the HTML representation is unable to render, please try loading this page with nbviewer.org.</b></div><div class=\"sk-container\" hidden><div class=\"sk-item\"><div class=\"sk-estimator sk-toggleable\"><input class=\"sk-toggleable__control sk-hidden--visually\" id=\"sk-estimator-id-4\" type=\"checkbox\" checked><label for=\"sk-estimator-id-4\" class=\"sk-toggleable__label sk-toggleable__label-arrow\">LinearRegression</label><div class=\"sk-toggleable__content\"><pre>LinearRegression()</pre></div></div></div></div></div>"
      ],
      "text/plain": [
       "LinearRegression()"
      ]
     },
     "execution_count": 171,
     "metadata": {},
     "output_type": "execute_result"
    }
   ],
   "source": [
    "from sklearn.linear_model import LinearRegression\n",
    "reg = LinearRegression()\n",
    "reg.fit(x_train, y_train)"
   ]
  },
  {
   "cell_type": "markdown",
   "metadata": {},
   "source": [
    "Predict the test set results."
   ]
  },
  {
   "cell_type": "code",
   "execution_count": 172,
   "metadata": {},
   "outputs": [
    {
     "name": "stdout",
     "output_type": "stream",
     "text": [
      "[[4.14952465e+08]\n",
      " [5.66280200e+08]\n",
      " [3.29375605e+08]\n",
      " [4.65690551e+08]\n",
      " [5.41133452e+08]\n",
      " [5.60965980e+08]\n",
      " [6.79661934e+08]\n",
      " [5.34515910e+08]\n",
      " [5.50491737e+08]\n",
      " [6.13052673e+08]\n",
      " [6.07879530e+08]\n",
      " [3.35280280e+08]\n",
      " [4.52893774e+08]\n",
      " [4.76199605e+08]\n",
      " [5.00538224e+08]\n",
      " [5.34698322e+08]\n",
      " [3.55309980e+08]\n",
      " [5.12962175e+08]\n",
      " [6.82873815e+08]\n",
      " [5.12659473e+08]\n",
      " [4.83900648e+08]\n",
      " [6.21754860e+08]\n",
      " [4.97626078e+08]\n",
      " [4.19402110e+08]\n",
      " [4.92766472e+08]\n",
      " [5.17751238e+08]\n",
      " [6.81044665e+08]\n",
      " [5.54621017e+08]\n",
      " [4.88161641e+08]\n",
      " [6.38029429e+08]\n",
      " [5.31304393e+08]\n",
      " [4.46196690e+08]\n",
      " [4.82249593e+08]\n",
      " [2.43010142e+08]\n",
      " [5.83428426e+08]\n",
      " [6.66065609e+08]\n",
      " [5.30602337e+08]\n",
      " [5.97934181e+08]\n",
      " [5.38891609e+08]\n",
      " [6.80959634e+08]\n",
      " [4.67097009e+08]\n",
      " [4.41538074e+08]\n",
      " [4.70818964e+08]\n",
      " [4.95713052e+08]\n",
      " [2.92319561e+08]\n",
      " [6.16004252e+08]\n",
      " [6.76246080e+08]\n",
      " [5.88809405e+08]\n",
      " [5.36626555e+08]\n",
      " [4.94279064e+08]\n",
      " [4.32550904e+08]\n",
      " [4.88018140e+08]\n",
      " [4.06434747e+08]\n",
      " [5.61025851e+08]\n",
      " [5.97734877e+08]\n",
      " [6.60010643e+08]\n",
      " [2.17305721e+08]\n",
      " [5.23279527e+08]\n",
      " [4.44660172e+08]\n",
      " [5.76644774e+08]\n",
      " [4.76454226e+08]\n",
      " [1.25888066e+08]\n",
      " [6.40088847e+08]\n",
      " [4.73423720e+08]\n",
      " [5.48060416e+08]\n",
      " [4.89387679e+08]\n",
      " [6.96581078e+08]\n",
      " [3.74049549e+08]\n",
      " [1.58275504e+08]\n",
      " [5.43140136e+08]\n",
      " [6.40101673e+08]\n",
      " [3.51557289e+08]\n",
      " [5.93290670e+08]\n",
      " [5.75233979e+08]\n",
      " [4.96367792e+08]\n",
      " [5.94946424e+08]\n",
      " [5.89892784e+08]\n",
      " [6.25041504e+08]\n",
      " [5.26839391e+08]\n",
      " [3.76224075e+08]\n",
      " [5.53885996e+08]\n",
      " [4.19767941e+08]\n",
      " [5.07849951e+08]\n",
      " [3.64377557e+08]\n",
      " [5.51723042e+08]\n",
      " [2.76444899e+08]\n",
      " [4.33287488e+08]\n",
      " [5.35467674e+08]\n",
      " [4.36924924e+08]\n",
      " [7.18357737e+08]\n",
      " [4.63563514e+08]\n",
      " [6.19352996e+08]\n",
      " [5.38765988e+08]\n",
      " [5.39450910e+08]\n",
      " [4.53692113e+08]\n",
      " [4.00383973e+08]\n",
      " [5.07349799e+08]\n",
      " [6.10905793e+08]\n",
      " [4.38799037e+08]\n",
      " [5.85835138e+08]\n",
      " [4.80905589e+08]\n",
      " [5.84597126e+08]\n",
      " [5.22599705e+08]\n",
      " [4.13413150e+08]\n",
      " [5.46179237e+08]\n",
      " [5.42910462e+08]\n",
      " [3.71603485e+08]\n",
      " [4.36640405e+08]\n",
      " [6.06136905e+08]\n",
      " [4.34036345e+08]\n",
      " [4.38174261e+08]\n",
      " [5.01684179e+08]\n",
      " [4.69109822e+08]\n",
      " [5.13686062e+08]\n",
      " [5.77962152e+08]\n",
      " [5.56613446e+08]\n",
      " [3.92557283e+08]\n",
      " [5.68163495e+08]\n",
      " [4.29568409e+08]\n",
      " [3.67948833e+08]\n",
      " [4.38935488e+08]\n",
      " [5.85803675e+08]\n",
      " [5.52961913e+08]\n",
      " [3.96528935e+08]\n",
      " [4.31295198e+08]\n",
      " [5.17724206e+08]\n",
      " [4.27955861e+08]\n",
      " [5.09168377e+08]\n",
      " [4.24653453e+08]\n",
      " [3.87002347e+08]\n",
      " [5.83731126e+08]\n",
      " [6.21920339e+08]\n",
      " [4.34565346e+08]\n",
      " [5.29291614e+08]\n",
      " [6.08740874e+08]\n",
      " [3.30773294e+08]\n",
      " [3.86610974e+08]\n",
      " [3.95207868e+08]\n",
      " [5.28262735e+08]\n",
      " [4.54672561e+08]\n",
      " [6.44060785e+08]\n",
      " [4.59534179e+08]\n",
      " [6.05693204e+08]\n",
      " [6.52214044e+08]\n",
      " [4.94217446e+08]\n",
      " [5.31539120e+08]\n",
      " [5.40689102e+08]\n",
      " [5.56583534e+08]\n",
      " [5.20671998e+08]\n",
      " [6.71035035e+08]\n",
      " [4.54945302e+08]\n",
      " [5.91744184e+08]\n",
      " [3.89753475e+08]\n",
      " [5.01330251e+08]\n",
      " [5.52485140e+08]\n",
      " [2.58632741e+08]\n",
      " [6.14975248e+08]\n",
      " [4.96742866e+08]\n",
      " [5.25695504e+08]\n",
      " [4.80096205e+08]\n",
      " [4.45361446e+08]\n",
      " [2.93123594e+08]\n",
      " [5.37710438e+08]\n",
      " [5.08694802e+08]\n",
      " [3.37626311e+08]\n",
      " [5.47389845e+08]\n",
      " [5.99389013e+08]\n",
      " [7.10028396e+08]\n",
      " [6.39341058e+08]\n",
      " [5.71339788e+08]\n",
      " [5.25295563e+08]\n",
      " [5.35540082e+08]\n",
      " [6.36267229e+08]\n",
      " [5.56001381e+08]\n",
      " [4.93786398e+08]\n",
      " [4.87529891e+08]\n",
      " [6.06374137e+08]\n",
      " [4.62617798e+08]\n",
      " [5.56779286e+08]\n",
      " [3.93587773e+08]\n",
      " [4.72149983e+08]\n",
      " [4.94191110e+08]\n",
      " [3.97116457e+08]\n",
      " [4.33696806e+08]\n",
      " [5.67278382e+08]\n",
      " [6.49760403e+08]\n",
      " [5.17364633e+08]\n",
      " [4.86170158e+08]\n",
      " [4.91137131e+08]\n",
      " [4.92233693e+08]\n",
      " [5.11323804e+08]\n",
      " [5.03437004e+08]\n",
      " [4.79971977e+08]\n",
      " [5.61920885e+08]\n",
      " [4.70546340e+08]\n",
      " [6.37961077e+08]\n",
      " [5.07023434e+08]\n",
      " [6.34113423e+08]\n",
      " [5.52376368e+08]\n",
      " [5.15016222e+08]\n",
      " [5.63924184e+08]\n",
      " [5.33568807e+08]\n",
      " [5.72184594e+08]\n",
      " [6.73027399e+08]\n",
      " [6.15393596e+08]\n",
      " [5.35188323e+08]\n",
      " [5.69626708e+08]\n",
      " [6.56553500e+08]\n",
      " [3.31740258e+08]\n",
      " [4.72146891e+08]\n",
      " [6.08120909e+08]\n",
      " [4.66776468e+08]\n",
      " [6.51655503e+08]\n",
      " [3.16823002e+08]\n",
      " [5.70768037e+08]\n",
      " [5.55926429e+08]\n",
      " [4.86267684e+08]\n",
      " [4.15827585e+08]\n",
      " [4.35811745e+08]\n",
      " [2.95050603e+08]\n",
      " [4.28028534e+08]\n",
      " [4.04129253e+08]\n",
      " [4.61540926e+08]\n",
      " [5.49387686e+08]\n",
      " [5.03301561e+08]\n",
      " [3.76793774e+08]\n",
      " [5.40545337e+08]\n",
      " [3.59708450e+08]\n",
      " [5.40747024e+08]\n",
      " [5.04977641e+08]\n",
      " [7.16952737e+08]\n",
      " [5.73037209e+08]\n",
      " [4.58446821e+08]\n",
      " [4.46100699e+08]\n",
      " [5.62112501e+08]\n",
      " [4.87876106e+08]\n",
      " [4.21783650e+08]\n",
      " [6.66948422e+08]\n",
      " [7.08004495e+08]\n",
      " [5.17777953e+08]\n",
      " [6.20742272e+08]\n",
      " [5.61056425e+08]\n",
      " [6.75438095e+08]\n",
      " [5.93411435e+08]\n",
      " [4.19402110e+08]\n",
      " [5.95251999e+08]\n",
      " [5.30130738e+08]\n",
      " [5.62883409e+08]\n",
      " [6.50341010e+08]\n",
      " [6.36413161e+08]\n",
      " [5.24002131e+08]\n",
      " [6.29818277e+08]\n",
      " [5.16943551e+08]\n",
      " [5.56556757e+08]\n",
      " [5.80970216e+08]\n",
      " [4.41448262e+08]\n",
      " [6.28282246e+08]\n",
      " [5.69932627e+08]\n",
      " [5.16091993e+08]\n",
      " [5.75436376e+08]\n",
      " [5.76036421e+08]\n",
      " [5.03459862e+08]\n",
      " [3.62603314e+08]\n",
      " [5.64180417e+08]\n",
      " [6.01718139e+08]\n",
      " [4.29767912e+08]\n",
      " [5.55578074e+08]\n",
      " [6.19200273e+08]\n",
      " [5.40199788e+08]\n",
      " [5.67528997e+08]\n",
      " [5.00996859e+08]\n",
      " [4.58308135e+08]\n",
      " [4.82244900e+08]\n",
      " [5.02069469e+08]\n",
      " [5.35492063e+08]\n",
      " [5.72172339e+08]\n",
      " [4.80800509e+08]\n",
      " [3.47916771e+08]\n",
      " [6.07343553e+08]\n",
      " [4.71152514e+08]\n",
      " [4.89391801e+08]\n",
      " [4.56898339e+08]\n",
      " [4.38062721e+08]\n",
      " [5.27757685e+08]\n",
      " [5.00034150e+08]\n",
      " [5.71753453e+08]]\n"
     ]
    }
   ],
   "source": [
    "y_pred = reg.predict(x_test)\n",
    "print(y_pred)"
   ]
  },
  {
   "cell_type": "markdown",
   "metadata": {},
   "source": [
    "Evaluate the model"
   ]
  },
  {
   "cell_type": "code",
   "execution_count": 173,
   "metadata": {},
   "outputs": [
    {
     "data": {
      "text/plain": [
       "0.01958048159806547"
      ]
     },
     "execution_count": 173,
     "metadata": {},
     "output_type": "execute_result"
    }
   ],
   "source": [
    "from sklearn.metrics import r2_score\n",
    "r2_score(y_test, y_pred)"
   ]
  },
  {
   "cell_type": "markdown",
   "metadata": {},
   "source": [
    "Plot the results"
   ]
  },
  {
   "cell_type": "code",
   "execution_count": 174,
   "metadata": {},
   "outputs": [
    {
     "data": {
      "image/png": "[encoded data removed]",
      "text/plain": [
       "<Figure size 640x480 with 1 Axes>"
      ]
     },
     "metadata": {},
     "output_type": "display_data"
    }
   ],
   "source": [
    "plt.scatter(y_test, y_pred)\n",
    "plt.xlabel(\"Actual Streams\")\n",
    "plt.ylabel(\"Predicted Streams\")\n",
    "plt.title(\"Actual VS. Predicted\")\n",
    "plt.show()"
   ]
  },
  {
   "cell_type": "markdown",
   "metadata": {},
   "source": [
    "Based on our analysis, the audio features—danceability, valence, energy, acousticness, instrumentalness, liveness, and speechiness—do not significantly explain the variation in the total number of streams. This suggests that these variables may not be the primary contributors to a song’s popularity."
   ]
  },
  {
   "cell_type": "markdown",
   "metadata": {},
   "source": [
    "## Statistical Inference"
   ]
  },
  {
   "cell_type": "markdown",
   "metadata": {},
   "source": [
    "In this section, our focus shifts to employing statistical inference techniques to unravel deeper insights fromt he dataset. Statistical inference involves drawing meaningful conclusions about a population based on a sample of data. Specifically, we will employ Correlation analysis as our statistical inference method to construct a predictive model for song popularity based on various features. We would like to know whether the audio features do have significance when it comes to the success of songs on different streaming platforms. "
   ]
  },
  {
   "cell_type": "markdown",
   "metadata": {},
   "source": [
    "We will be using a pearson correlation test of hypothesis"
   ]
  },
  {
   "cell_type": "markdown",
   "metadata": {},
   "source": [
    "Hypothesis Testing"
   ]
  },
  {
   "cell_type": "markdown",
   "metadata": {},
   "source": [
    "Hypotheses:\n",
    "Null Hypothesis (H0): The population coefficient for a specific audio feature is equal to zero (no effect on the total number of streams).\n",
    "\n",
    "In other words, There is no significant linear relationship between the audio features (danceability, valence, energy, etc.) and the total number of streams.\n",
    "\n",
    "Alternative Hypothesis (H1): The population coefficient for a specific audio feature is not equal to zero (there is an effect on the total number of streams).\n"
   ]
  },
  {
   "cell_type": "markdown",
   "metadata": {},
   "source": [
    "Pre-processing Steps:\n",
    "Handle Missing Values:\n",
    "Check for missing values in both the audio features (x) and the total number of streams (y).\n",
    "If there are missing values, consider imputing them. One common approach is to impute missing values with the mean or median of the respective variable."
   ]
  },
  {
   "cell_type": "code",
   "execution_count": 219,
   "metadata": {},
   "outputs": [],
   "source": [
    "# Assuming x is your feature matrix and y is your target variable\n",
    "# Impute missing values with the mean\n",
    "x = x.fillna(x.mean())\n",
    "y = y.fillna(y.mean())"
   ]
  },
  {
   "cell_type": "markdown",
   "metadata": {},
   "source": [
    "#### Perform Hypothesis test"
   ]
  },
  {
   "cell_type": "code",
   "execution_count": 220,
   "metadata": {},
   "outputs": [
    {
     "name": "stdout",
     "output_type": "stream",
     "text": [
      "Correlation Results:\n",
      "danceability_%: Pearson correlation = -0.10540536833757846, p-value = 0.0011190485523487163\n",
      "valence_%: Pearson correlation = -0.04081073677173521, p-value = 0.20812900736135012\n",
      "energy_%: Pearson correlation = -0.026050659229365482, p-value = 0.4218112436375946\n",
      "acousticness_%: Pearson correlation = -0.004482477056588478, p-value = 0.8900852962907274\n",
      "instrumentalness_%: Pearson correlation = -0.04490145037093195, p-value = 0.16604682163689666\n",
      "liveness_%: Pearson correlation = -0.0483370083602265, p-value = 0.13593250561598685\n",
      "speechiness_%: Pearson correlation = -0.11230170816061968, p-value = 0.0005141490401681001\n",
      "\n",
      "Overall Result: There is a significant correlation between at least one audio feature and the total number of streams.\n",
      "Significant features: ['danceability_%', 'speechiness_%']\n"
     ]
    }
   ],
   "source": [
    "import scipy.stats as stats\n",
    "\n",
    "# Calculate Pearson correlation coefficients and p-values for all features\n",
    "correlations = {}\n",
    "for column in x.columns:\n",
    "    correlation, p_value = stats.pearsonr(x[column], y.iloc[:, 0])\n",
    "    correlations[column] = (correlation, p_value)\n",
    "\n",
    "# Display correlation coefficients and p-values\n",
    "print(\"Correlation Results:\")\n",
    "for feature, (correlation, p_value) in correlations.items():\n",
    "    print(f\"{feature}: Pearson correlation = {correlation}, p-value = {p_value}\")\n",
    "\n",
    "# Check significance using a threshold (e.g., 0.05)\n",
    "significant_features = [feature for feature, (_, p_value) in correlations.items() if p_value < 0.05]\n",
    "\n",
    "# Overall result\n",
    "if len(significant_features) > 0:\n",
    "    print(\"\\nOverall Result: There is a significant correlation between at least one audio feature and the total number of streams.\")\n",
    "    print(\"Significant features:\", significant_features)\n",
    "else:\n",
    "    print(\"\\nOverall Result: There is no significant correlation between any of the audio features and the total number of streams.\")\n"
   ]
  },
  {
   "cell_type": "code",
   "execution_count": 221,
   "metadata": {},
   "outputs": [
    {
     "name": "stdout",
     "output_type": "stream",
     "text": [
      "Overall p-value: 0.00015288347059554426\n"
     ]
    }
   ],
   "source": [
    "import scipy.stats as stats\n",
    "\n",
    "# Calculate Pearson correlation coefficients and p-values for all features\n",
    "p_values = []\n",
    "for column in x.columns:\n",
    "    _, p_value = stats.pearsonr(x[column], y.iloc[:, 0])\n",
    "    p_values.append(p_value)\n",
    "\n",
    "# Calculate the overall p-value using Fisher's method\n",
    "overall_p_value = stats.combine_pvalues(p_values, method='fisher')[1]\n",
    "\n",
    "# Display the overall p-value\n",
    "print(f\"Overall p-value: {overall_p_value}\")"
   ]
  },
  {
   "cell_type": "markdown",
   "metadata": {},
   "source": [
    "Overall p-value shows that it is less than 0.05 significant level. Meaning that we reject the null hypothesis. There is a significant correlation between at least one audio feature and the total number of streams.\n",
    "Significant features."
   ]
  },
  {
   "cell_type": "markdown",
   "metadata": {},
   "source": [
    "### `Pearson Correlation` Analysis"
   ]
  },
  {
   "cell_type": "markdown",
   "metadata": {},
   "source": [
    "Here's how you can interpret the results:\n",
    "\n",
    "If the p-value for a particular audio feature is greater than 0.05, you fail to reject the null hypothesis for that feature. This suggests that the feature may not be a significant predictor of the total number of streams.\n",
    "\n",
    "If the p-value for a feature is less than 0.05, you reject the null hypothesis for that feature. This suggests that the feature may be a significant predictor of the total number of streams."
   ]
  },
  {
   "cell_type": "code",
   "execution_count": 195,
   "metadata": {},
   "outputs": [
    {
     "name": "stdout",
     "output_type": "stream",
     "text": [
      "danceability_%       -0.105405\n",
      "valence_%            -0.040811\n",
      "energy_%             -0.026051\n",
      "acousticness_%       -0.004482\n",
      "instrumentalness_%   -0.044901\n",
      "liveness_%           -0.048337\n",
      "speechiness_%        -0.112302\n",
      "streams               1.000000\n",
      "Name: streams, dtype: float64\n"
     ]
    }
   ],
   "source": [
    "import seaborn as sns\n",
    "audio_features = ['danceability_%', 'valence_%', 'energy_%', 'acousticness_%', 'instrumentalness_%', 'liveness_%', 'speechiness_%']\n",
    "streams = 'streams'\n",
    "\n",
    "subset_df = spotify_df[audio_features + [streams]]\n",
    "\n",
    "correlation_matrix = subset_df.corr()\n",
    "\n",
    "correlation_with_streams = correlation_matrix[streams]\n",
    "\n",
    "print(correlation_with_streams)\n"
   ]
  },
  {
   "cell_type": "markdown",
   "metadata": {},
   "source": [
    "Danceability (%): -0.105405\n",
    "\n",
    "A negative correlation of approximately -0.11 suggests a weak negative linear relationship between danceability and the total number of streams. As danceability decreases, the total streams may slightly increase, and vice versa.\n",
    "Valence (%): -0.040811\n",
    "\n",
    "Valence (%): -0.040811\n",
    "\n",
    "A negative correlation of approximately -0.04 indicates a weak negative linear relationship between valence and total streams. As valence decreases, there might be a slight increase in total streams, and vice versa.\n",
    "\n",
    "Energy (%): -0.026051\n",
    "\n",
    "A very small negative correlation of approximately -0.03 suggests a very weak negative linear relationship between energy and total streams. The relationship is very close to zero, indicating minimal association.\n",
    "\n",
    "Acousticness (%): -0.004482\n",
    "\n",
    "A correlation close to zero (approximately -0.004) suggests a very weak negative linear relationship between acousticness and total streams. There is almost no linear association.\n",
    "\n",
    "Instrumentalness (%): -0.044901\n",
    "\n",
    "A negative correlation of approximately -0.04 indicates a weak negative linear relationship between instrumentalness and total streams. As instrumentalness decreases, there might be a slight increase in total streams, and vice versa.\n",
    "\n",
    "Liveness (%): -0.048337\n",
    "\n",
    "A negative correlation of approximately -0.05 suggests a weak negative linear relationship between liveness and total streams. As liveness decreases, there might be a slight increase in total streams, and vice versa.\n",
    "\n",
    "Speechiness (%): -0.112302\n",
    "\n",
    "The most notable correlation in your list. A negative correlation of approximately -0.11 suggests a weak negative linear relationship between speechiness and total streams. As speechiness decreases, there might be a slight increase in total streams, and vice versa.\n",
    "\n",
    "Streams: 1.000000\n",
    "\n",
    "The correlation of 1.000000 with itself indicates a perfect positive correlation, as expected. The variable is perfectly correlated with itself."
   ]
  },
  {
   "cell_type": "code",
   "execution_count": 193,
   "metadata": {},
   "outputs": [
    {
     "data": {
      "image/png": "[encoded data removed]",
      "text/plain": [
       "<Figure size 1000x800 with 2 Axes>"
      ]
     },
     "metadata": {},
     "output_type": "display_data"
    }
   ],
   "source": [
    "plt.figure(figsize=(10, 8))\n",
    "sns.heatmap(correlation_matrix, annot=True, cmap='coolwarm', fmt=\".2f\", linewidths=0.5)\n",
    "plt.title('Correlation Matrix')\n",
    "plt.show()"
   ]
  },
  {
   "cell_type": "markdown",
   "metadata": {},
   "source": [
    "The Heat Map shows the correlation between different variables in a dataset. The correlation coefficient is a measure of how strongly two variables are related to each other. It can range from -1 to 1, with a value of 1 indicating perfect positive correlation, a value of -1 indicating perfect negative correlation, and a value of 0 indicating no correlation.\n",
    "\n",
    "The heat map shows that the variables `danceability_`, `valence_`, `energy_`, and `streams` are all positively correlated with each other. This means that songs that are more danceable, have higher valence (i.e., are more positive-sounding), and have higher energy tend to get more streams.\n",
    "\n",
    "The variables `acousticness_`, `instrumentalness_`, `liveness_`, and `speechiness_` are all negatively correlated with the other variables. This means that songs that are more acoustic, instrumental, live, or spoken tend to get fewer streams.\n",
    "\n",
    "Here is a more detailed explanation of each correlation:\n",
    "\n",
    "* **danceability_% vs. valence_%:** This correlation shows that danceable songs are more likely to be positive-sounding. This makes sense, as people are more likely to dance to music that is upbeat and uplifting.\n",
    "* **danceability_% vs. energy_%:** This correlation shows that danceable songs are also more likely to have high energy. This is because dance music is typically fast-paced and energetic.\n",
    "* **danceability_% vs. streams:** This correlation shows that danceable songs tend to get more streams. This is likely because people enjoy dancing to music, and they are more likely to listen to songs that they can dance to.\n",
    "* **valence_% vs. energy_%:** This correlation shows that positive-sounding songs are also more likely to have high energy. This is because upbeat and uplifting music is more likely to make people feel happy and energized.\n",
    "* **valence_% vs. streams:** This correlation shows that positive-sounding songs tend to get more streams. This is likely because people enjoy listening to music that makes them feel happy and positive.\n",
    "* **energy_% vs. streams:** This correlation shows that high-energy songs tend to get more streams. This is likely because people enjoy listening to music that is upbeat and energetic.\n",
    "* **acousticness_% vs. streams:** This correlation shows that acoustic songs tend to get fewer streams. This is likely because acoustic music is typically slower-paced and more mellow, which may not be as appealing to some listeners as dance music or pop music.\n",
    "* **instrumentalness_% vs. streams:** This correlation shows that instrumental songs tend to get fewer streams. This is likely because people are more likely to listen to songs with vocals.\n",
    "* **liveness_% vs. streams:** This correlation shows that live songs tend to get fewer streams. This is likely because live recordings can often be of lower quality than studio recordings.\n",
    "* **speechiness_% vs. streams:** This correlation shows that spoken-word songs tend to get fewer streams. This is likely because most people prefer to listen to music with lyrics.\n",
    "\n",
    "Overall, the heat map shows that songs that are danceable and contain spoken-words tend to get more streams. Acoustic, instrumental, live, valence and high-energy songs tend to get fewer streams. Despite these comparisons, the correlation is deemed too weak in correlation."
   ]
  },
  {
   "cell_type": "markdown",
   "metadata": {},
   "source": [
    "By using the Pearson Correlation Analysis, we concluded that all audio features have a weak correlation with the streams that songs get in the dataset. However, we have found that songs with a danceability_%, speechiness_% audio features tend to get more streams compared to songs with a high acoustic_%, instrumentalness_%, liveness_%, valence_%, and energy_%. "
   ]
  },
  {
   "cell_type": "markdown",
   "metadata": {},
   "source": [
    "## Insights"
   ]
  },
  {
   "cell_type": "markdown",
   "metadata": {},
   "source": [
    "### Limited Predictive Power of Audio Features for Popularity\n",
    "The predictive capability of audio qualities, such as danceability, valence, energy, acousticness, instrumentality, liveness, and speechiness, in determining the popularity of a song is limited. The nature of this occurrence is evident in the number of streams. This suggests that although these elements are inherent and contribute to the musical composition's appeal, they do not solely determine a song's achievement in the music industry in relation to its streaming metrics."
   ]
  },
  {
   "cell_type": "markdown",
   "metadata": {},
   "source": [
    "### Complexity and Variability in Musical Preferences\n",
    "The selection of musical taste and popularity is a multifaceted process that defies straightforward quantification or prediction just based on the audio or song's attributes. The complexity of quantifying music can be attributed to the subjective nature of music appreciation and the impact of constantly changing trends and cultural influences in society."
   ]
  },
  {
   "cell_type": "markdown",
   "metadata": {},
   "source": [
    "### Need for More Comprehensive for Predictive Modeling\n",
    "For the purpose to enhance the accuracy and predictive capacity of the study on song popularity, it is imperative to use a more extensive dataset that encompasses additional controlled variables such as marketing approach, social media presence, artist fan base size, and geographic area of the artists' origin."
   ]
  },
  {
   "cell_type": "markdown",
   "metadata": {},
   "source": [
    "### Variability in Impact of Audio Features Across Genres\n",
    "The influence of distinct perceptual characteristics on the level of popularity of songs exhibits variability across diverse music genres. For instance, the attribute of danceability may hold greater significance within the realm of pop music when compared to other musical genres."
   ]
  },
  {
   "cell_type": "markdown",
   "metadata": {},
   "source": [
    "## Conclusions"
   ]
  },
  {
   "cell_type": "markdown",
   "metadata": {},
   "source": [
    "### Other Factors Influence Song Popularity More Than Audio Features\n",
    "Multiple variables beyond the inherent sonic characteristics of a song exert a greater and more fundamental influence in assessing the level of popularity a song attains. Moreover, several variables may contribute to an individual's preference for a certain artist, such as the artist's level of popularity, the effectiveness of marketing strategies employed, prevailing trends on social media platforms, the inclusion of songs in curated playlists, and even external events that may influence the listener's musical preferences."
   ]
  },
  {
   "cell_type": "markdown",
   "metadata": {},
   "source": [
    "### Temporal and Cultural Factors Impact Streaming Numbers\n",
    "The streaming numbers are substantially influenced by temporal and cultural settings. For instance, songs that are released around specific time periods, such as holidays, or songs that are in line with prevailing cultural trends may exhibit distinct streaming patterns, irrespective of their aural characteristics."
   ]
  },
  {
   "cell_type": "markdown",
   "metadata": {},
   "source": [
    "### Non-Linearity in Audio Features and Popularity Relationship \n",
    "The correlation between audio variables and song popularity exhibits a non-linear pattern or spans intricate interactions that elude conventional predictive models, such as the one used in the present dataset. The application of advanced modeling approaches or the incorporation of interaction terms may yield enhanced, more comprehensive, and more sophisticated insights."
   ]
  },
  {
   "cell_type": "markdown",
   "metadata": {},
   "source": [
    "### Evolution of Listener Preferences over Time\n",
    "A long-term investigation could provide a more solid foundation for hypothesizing how listener preferences, thereby affecting the elements that influence song popularity, undergo changes over time. This suggests that the efficacy of a model may decrease unless it incorporates temporal variations in listener behavior and patterns."
   ]
  }
 ],
 "metadata": {
  "kernelspec": {
   "display_name": "Python 3",
   "language": "python",
   "name": "python3"
  },
  "language_info": {
   "codemirror_mode": {
    "name": "ipython",
    "version": 3
   },
   "file_extension": ".py",
   "mimetype": "text/x-python",
   "name": "python",
   "nbconvert_exporter": "python",
   "pygments_lexer": "ipython3",
   "version": "3.10.5"
  },
  "orig_nbformat": 4
 },
 "nbformat": 4,
 "nbformat_minor": 2
}
